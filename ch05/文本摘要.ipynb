{
 "cells": [
  {
   "cell_type": "markdown",
   "metadata": {
    "collapsed": true
   },
   "source": [
    "# 文本摘要\n",
    "它被商业企业和分析公司用来缩短和总结大文本文档,从而使它们仍然保留其主要内容或主题,并可以像消费者和客户展示这些摘要信息.\n",
    "\n",
    "从大量语料库中获取有意义的见解,好的方法是使用一些专门针对文本摘要和信息提取的无监督学习方法.以下是你可以对文本文档进行的一些操作:\n",
    "- 提取文档中的关键影响短语\n",
    "- 提取文档中存在的各种不同的概念或主题\n",
    "- 总结文件,以提供保留着整个语料库重要部分的要点\n",
    "\n",
    "本章将讨论三种主要的概念和技术:关键短语提取,主题模型和自动摘要."
   ]
  },
  {
   "cell_type": "markdown",
   "metadata": {},
   "source": [
    "## 文本摘要和信息提取\n",
    "### 关键短语提取\n",
    "涉及从包含其主要概念或主题的文本文档或语料库中提取关键字或短语.它可以说是主题建模的一种简单形式.\n",
    "\n",
    "你可能已经在研究论文中或者甚至在网络商店上的一些产品中看到过所描述的关键字或短语,它们用几个单词或短语来描述对象,\n",
    "\n",
    "突出其主要思想或概念.\n",
    "### 主题模型\n",
    "通常涉及**使用统计和数学建模技术**从文档语料库中提取核心主题,题材或概念.请注意,这里强调文档语料库,是因为你拥有的文档集更多样,\n",
    "\n",
    "你就可以生成更多的主题或概念--与单个文档不同,如果谈及的是单一概念,你将不会收到太多的主题或概念.**主题模型通常也称为概率统计模型**,\n",
    "\n",
    "**其使用特定的统计技术, 包括奇异值分解和隐含dirichlet分布来发现在产生主题和概念的文本数据中的连接潜在语义结构**.\n",
    "\n",
    "它们广泛用于文本分析甚至生物信息学.\n",
    "### 自动文档摘要\n",
    "使用基于统计和机器学习技术的计算机程序或算法来概括文档或文档语料库的过程,以便我们可以获得包含原始文档或语料库的\n",
    "\n",
    "所有基本概念和主题的简短摘要.可用各种各样的技术构建自动化文本摘要器,包括各种基于提取和概括的技术.所有这些算法背\n",
    "\n",
    "后的关键思想是找到原始数据集的代表性子集,使得从语义和概念角度来看数据集的核心要素包含在该子集中.文档摘要通常涉及\n",
    "\n",
    "从单个文档中提取和构建执行摘要.但是,相同的算法可以扩展到多个文档,虽然通常不讲多个不同文档结合在一起,这可能将违背\n",
    "\n",
    "算法的初衷.相同的概念不仅应用与文本分析,还适用于图像和视频摘要.\n",
    "\n",
    "## 重要概念\n",
    "### 文本规范化\n",
    "文本规范化是通过技术来清洗,规范化和标准化文本数据的过程,譬如删除特殊符号和字符,去除多余的HTML标签,移除停用词,校正拼写,词干提取和词性还原\n",
    "\n",
    "### 特征提取\n",
    "特征提取是从原始文本数据中提取有意义的特征或属性,以将其提供给统计或机器学习算法的过程.这个过程也称为向量化,因为该过程的转换结果通常是来自与原始文本标识的数值向量.其原因是常规算法可以对数值向量奏效,并不能直接在原始文本数据上处理.有各种不同的特征提取方法,包括:**基于词集的二进制特征可以告诉我们文档中是否存在一个单词**,**基于词袋的频率特征可以告诉我们文档中一个单词或者一组单词的出现频次**,以及**词频和逆文档频率或TF-IDF加权特征在计算每个词项权重时考虑了词频和逆文档频率**.\n",
    "\n",
    "### 特征矩阵\n",
    "特征矩阵通常是指从文档集合到特征的映射,其中每行表示文档,每列表示具体特征,特征通常是一个单词或一组单词.我们将通过特征提取后的\n",
    "\n",
    "特征矩阵来表达文档或句子的集合,并且将在后面的实例中经常在统计和机器学习技术之中应用这些矩阵.\n",
    "### 奇异值分解\n",
    "奇异值分解是线性代数的一种技术,它在摘要算法中经常用到.SVD是实数或复数矩阵的因式分解的过程.\n",
    "\n",
    "我们将使用源自scipy的一个很好的实现来提取顶部的k个奇异值,并返回相应的U,S和V矩阵.\n",
    "\n",
    "在我们的计算中,通常矩阵M的行将表示词项,列将表示文档.该矩阵也称为词项-文档矩阵(term-document matrix),\n",
    "\n",
    "通常是在特征提取之后在应用SVD之前将文档-词项矩阵转置得到."
   ]
  },
  {
   "cell_type": "code",
   "execution_count": 32,
   "metadata": {
    "collapsed": true
   },
   "outputs": [],
   "source": [
    "import re"
   ]
  },
  {
   "cell_type": "code",
   "execution_count": 1,
   "metadata": {
    "collapsed": true
   },
   "outputs": [],
   "source": [
    "from scipy.sparse.linalg import svds\n",
    "\n",
    "def low_rank_svd(matrix, sigular_count=2):\n",
    "    u,s,vt = svds(matrix, k=singular_count)\n",
    "    return u,s,vt"
   ]
  },
  {
   "cell_type": "markdown",
   "metadata": {},
   "source": [
    "## 文本规范化\n",
    "主要步骤包括:\n",
    "- 句子提取\n",
    "- 取消HTML转移序列\n",
    "- 扩展缩写词\n",
    "- 文本还原\n",
    "- 删除特殊字符\n",
    "- 删除停用词"
   ]
  },
  {
   "cell_type": "code",
   "execution_count": 2,
   "metadata": {
    "collapsed": true
   },
   "outputs": [],
   "source": [
    "def parse_document(document):\n",
    "    '''\n",
    "    删除换行符,解析文本,将其转换为ASCII格式,并将其分解成其句子成分\n",
    "    '''\n",
    "    document = re.sub('\\n', ' ', document)\n",
    "    if isinstance(document, str):\n",
    "        document = document\n",
    "    elif isinstance(document, unicode):\n",
    "        return unicodedata.normalize('NFKD', document).encode('ascii', 'ignore')\n",
    "    else:\n",
    "        raise ValueError('Document is not string or unicode!')\n",
    "    document = document.strip()\n",
    "    sentences = nltk.sent_tokenize(document)\n",
    "    sentences = [sentence.strip() for sentence in sentences]\n",
    "    return sentences"
   ]
  },
  {
   "cell_type": "code",
   "execution_count": 3,
   "metadata": {
    "collapsed": true
   },
   "outputs": [],
   "source": [
    "from HTMLParser import HTMLParser\n",
    "\n",
    "html_parser = HTMLParser()\n",
    "def unescape_html(parser, text):\n",
    "    '''\n",
    "    取消HTML转义序列\n",
    "    '''\n",
    "    return parse.unescape(text)"
   ]
  },
  {
   "cell_type": "code",
   "execution_count": 48,
   "metadata": {
    "collapsed": true
   },
   "outputs": [],
   "source": [
    "def tokenize_text(text):\n",
    "    tokens = nltk.word_tokenize(text) \n",
    "    tokens = [token.strip() for token in tokens]\n",
    "    return tokens\n",
    "\n",
    "def normalize_corpus(corpus, lemmatize=True, tokenize=False):\n",
    "    normalized_corpus = []\n",
    "    for text in corpus:\n",
    "        text = html_parser.unescape(text)\n",
    "        text = expand_contractions(text, CONTRACTION_MAP)\n",
    "        if lemmatize:\n",
    "            text = lemmatize_text(text)\n",
    "        else:\n",
    "            text = text.lower()\n",
    "        text = remove_special_characters(text)\n",
    "        text = remove_stopwords(text)\n",
    "        if tokenize:\n",
    "            text = tokenize_text(text)\n",
    "            normalized_corpus.append(text)\n",
    "        else:\n",
    "            normalized_corpus.append(text)\n",
    "    return normalized_corpus"
   ]
  },
  {
   "cell_type": "markdown",
   "metadata": {},
   "source": [
    "## 特征提取\n",
    "使用泛型函数从文本数据中执行各种类型的特征提取.将要使用的特征类型如下:\n",
    "- 基于词项次数的二值特征\n",
    "- 基于词袋模型的频率特征\n",
    "- 基于TF-IDF权重的特征"
   ]
  },
  {
   "cell_type": "code",
   "execution_count": 7,
   "metadata": {},
   "outputs": [],
   "source": [
    "from sklearn.feature_extraction.text import CountVectorizer, TfidfVectorizer\n",
    "\n",
    "def build_feature_matrix(documents, feature_type='frequency'):\n",
    "    feature_type=feature_type.lower().strip()\n",
    "    if feature_type == 'binary': #词集模型\n",
    "        vectorizer = CountVectorizer(binary=True,min_df=1,ngram_range=(1,1))\n",
    "    elif feature_type == 'frequency': #词袋模型\n",
    "        vectorizer = CountVectorizer(binary=False, min_df=1, ngram_range=(1,1))\n",
    "    elif feature_type == 'tfidf':\n",
    "        vectorizer = TfidfVectorizer(min_df=1, ngram_range=(1,1))\n",
    "    else:\n",
    "        raise Exception('Wrong feature type entered.Possible values:\"binary\",\"frequency\",\"tfidf\"')\n",
    "    feature_matrix = vectorizer.fit_transform(documents).astype(float)\n",
    "    return vectorizer, feature_matrix"
   ]
  },
  {
   "cell_type": "markdown",
   "metadata": {},
   "source": [
    "## 关键短语提取\n",
    "从非结构化文本文档中提取重要信息的最简单但最强大的技术之一是关键短语提取.关键短语提取也称为词项提取.关键短语提取可以应用在很多领域:\n",
    "- 语义网\n",
    "- 基于查询的搜索引擎的爬虫\n",
    "- 推荐系统\n",
    "- 标注系统\n",
    "- 文档相似性\n",
    "- 翻译\n",
    "\n",
    "下面介绍两种主要的关键短语提取方法:\n",
    "- 搭配\n",
    "- 基于权重标签的短语提取\n",
    "\n",
    "### 搭配\n",
    "词项搭配实际上是从分析语料库和语言学中借鉴的一个概念.搭配是一种趋向于频繁发生的序列或一组词,\n",
    "\n",
    "使得该发生频率倾向于超过可称为随机或偶然发生的频率.最好方法之一是使用一种n元分词组成或分割方法,我们从语料库中构造n元分词分组,\n",
    "\n",
    "计算每个n元分词的频率,并根据它们的出现频率进行排序以得到最频繁的n元分词搭配."
   ]
  },
  {
   "cell_type": "code",
   "execution_count": 14,
   "metadata": {},
   "outputs": [
    {
     "name": "stdout",
     "output_type": "stream",
     "text": [
      "alice adventures wonderland lewis carroll 1865\n"
     ]
    }
   ],
   "source": [
    "from nltk.corpus import gutenberg\n",
    "import nltk\n",
    "from operator import itemgetter\n",
    "from normalization import expand_contractions\n",
    "from contractions import CONTRACTION_MAP\n",
    "from normalization import remove_special_characters\n",
    "from normalization import remove_stopwords\n",
    "\n",
    "#load corpus\n",
    "alice = gutenberg.sents(fileids='carroll-alice.txt')\n",
    "alice = [' '.join(ts) for ts in alice]\n",
    "norm_alice = filter(None, normalize_corpus(alice, lemmatize=False))\n",
    "print norm_alice[0]"
   ]
  },
  {
   "cell_type": "code",
   "execution_count": 15,
   "metadata": {
    "collapsed": true
   },
   "outputs": [],
   "source": [
    "def flatten_corpus(corpus):\n",
    "    '''\n",
    "    将语料库压缩成1个大的文本串\n",
    "    '''\n",
    "    return ' '.join([document.strip() for document in corpus])"
   ]
  },
  {
   "cell_type": "code",
   "execution_count": 16,
   "metadata": {
    "collapsed": true
   },
   "outputs": [],
   "source": [
    "def compute_ngrams(sequence, n):\n",
    "    '''产生N元分词'''\n",
    "    return zip(*[sequence[index:] for index in range(n)])"
   ]
  },
  {
   "cell_type": "code",
   "execution_count": 19,
   "metadata": {
    "collapsed": true
   },
   "outputs": [],
   "source": [
    "def get_top_ngrams(corpus, ngram_val=1, limit=5):\n",
    "    '''\n",
    "    ngram_val:表示几元组\n",
    "    limit:表示返回top几的元组列表\n",
    "    '''\n",
    "    corpus = flatten_corpus(corpus)\n",
    "    tokens = nltk.word_tokenize(corpus)\n",
    "    \n",
    "    ngrams = compute_ngrams(tokens, ngram_val)\n",
    "    ngrams_freq_dist = nltk.FreqDist(ngrams)\n",
    "    sorted_ngrams_fd = sorted(ngrams_freq_dist.items(), key=itemgetter(1), reverse=True)\n",
    "    sorted_ngrams = sorted_ngrams_fd[0:limit]\n",
    "    sorted_ngrams = [(' '.join(text), freq) for text, freq in sorted_ngrams]\n",
    "    return sorted_ngrams"
   ]
  },
  {
   "cell_type": "code",
   "execution_count": 20,
   "metadata": {},
   "outputs": [
    {
     "data": {
      "text/plain": [
       "[(u'said alice', 123),\n",
       " (u'mock turtle', 56),\n",
       " (u'march hare', 31),\n",
       " (u'said king', 29),\n",
       " (u'thought alice', 26),\n",
       " (u'said hatter', 22),\n",
       " (u'white rabbit', 22),\n",
       " (u'said mock', 20),\n",
       " (u'said gryphon', 18),\n",
       " (u'said caterpillar', 18)]"
      ]
     },
     "execution_count": 20,
     "metadata": {},
     "output_type": "execute_result"
    }
   ],
   "source": [
    "get_top_ngrams(corpus=norm_alice, ngram_val=2, limit=10)"
   ]
  },
  {
   "cell_type": "code",
   "execution_count": 21,
   "metadata": {},
   "outputs": [
    {
     "data": {
      "text/plain": [
       "[(u'said mock turtle', 20),\n",
       " (u'said march hare', 10),\n",
       " (u'poor little thing', 6),\n",
       " (u'white kid gloves', 5),\n",
       " (u'little golden key', 5),\n",
       " (u'march hare said', 5),\n",
       " (u'certainly said alice', 5),\n",
       " (u'mock turtle said', 5),\n",
       " (u'mouse mouse mouse', 4),\n",
       " (u'join dance join', 4)]"
      ]
     },
     "execution_count": 21,
     "metadata": {},
     "output_type": "execute_result"
    }
   ],
   "source": [
    "get_top_ngrams(corpus=norm_alice, ngram_val=3, limit=10)"
   ]
  },
  {
   "cell_type": "markdown",
   "metadata": {},
   "source": [
    "现在看看nltk的搭配查找器,这使我们能够使用诸如原始频率,点互信息(PMI)等各种度量法来找到搭配.数学上,点互信息表示为:\n",
    "\n",
    "$pmi(x,y) =\\log \\frac{p(x,y)}{p(x)p(y)}$"
   ]
  },
  {
   "cell_type": "code",
   "execution_count": 25,
   "metadata": {},
   "outputs": [
    {
     "name": "stdout",
     "output_type": "stream",
     "text": [
      "--------------------\n"
     ]
    },
    {
     "data": {
      "text/plain": [
       "[(u'abide', u'figures'),\n",
       " (u'acceptance', u'elegant'),\n",
       " (u'accounting', u'tastes'),\n",
       " (u'accustomed', u'usurpation'),\n",
       " (u'act', u'crawling'),\n",
       " (u'adjourn', u'immediate'),\n",
       " (u'adoption', u'energetic'),\n",
       " (u'affair', u'trusts'),\n",
       " (u'agony', u'terror'),\n",
       " (u'alarmed', u'proposal')]"
      ]
     },
     "execution_count": 25,
     "metadata": {},
     "output_type": "execute_result"
    }
   ],
   "source": [
    "#以下代码显示如何使用这些度量法计算这些搭配\n",
    "\n",
    "from nltk.collocations import BigramCollocationFinder\n",
    "from nltk.collocations import BigramAssocMeasures\n",
    "\n",
    "finder = BigramCollocationFinder.from_documents([item.split() for item in norm_alice])\n",
    "\n",
    "bigram_measures = BigramAssocMeasures()\n",
    "\n",
    "finder.nbest(bigram_measures.raw_freq, 10)\n",
    "print '-'*20\n",
    "finder.nbest(bigram_measures.pmi, 10)"
   ]
  },
  {
   "cell_type": "code",
   "execution_count": 26,
   "metadata": {},
   "outputs": [
    {
     "name": "stdout",
     "output_type": "stream",
     "text": [
      "--------------------\n"
     ]
    },
    {
     "data": {
      "text/plain": [
       "[(u'accustomed', u'usurpation', u'conquest'),\n",
       " (u'adjourn', u'immediate', u'adoption'),\n",
       " (u'adoption', u'energetic', u'remedies'),\n",
       " (u'ancient', u'modern', u'seaography'),\n",
       " (u'apple', u'roast', u'turkey'),\n",
       " (u'arithmetic', u'ambition', u'distraction'),\n",
       " (u'brother', u'latin', u'grammar'),\n",
       " (u'canvas', u'bag', u'tied'),\n",
       " (u'cherry', u'tart', u'custard'),\n",
       " (u'circle', u'exact', u'shape')]"
      ]
     },
     "execution_count": 26,
     "metadata": {},
     "output_type": "execute_result"
    }
   ],
   "source": [
    "#trigrams\n",
    "from nltk.collocations import TrigramCollocationFinder\n",
    "from nltk.collocations import TrigramAssocMeasures\n",
    "\n",
    "finder = TrigramCollocationFinder.from_documents([item.split() for item in norm_alice])\n",
    "\n",
    "trigram_measures = TrigramAssocMeasures()\n",
    "\n",
    "#raw frequencies\n",
    "finder.nbest(trigram_measures.raw_freq, 10)\n",
    "print '-'*20\n",
    "#pointwise mutual information\n",
    "finder.nbest(trigram_measures.pmi, 10)"
   ]
  },
  {
   "cell_type": "markdown",
   "metadata": {},
   "source": [
    "### 基于权重标签的短语提取\n",
    "在这个算法中将遵循以下两个步骤:\n",
    "- 使用浅层分析提取所有名词短语词块\n",
    "    使用基于词性标注的简单模式来提取名词短语词块\n",
    "- 计算每个词块的TF-IDF权重并返回最大加权短语"
   ]
  },
  {
   "cell_type": "code",
   "execution_count": 27,
   "metadata": {
    "collapsed": true
   },
   "outputs": [],
   "source": [
    "toy_text = \"\"\"\n",
    "Elephants are large mammals of the family Elephantidae \n",
    "and the order Proboscidea. Two species are traditionally recognised, \n",
    "the African elephant and the Asian elephant. Elephants are scattered \n",
    "throughout sub-Saharan Africa, South Asia, and Southeast Asia. Male \n",
    "African elephants are the largest extant terrestrial animals. All \n",
    "elephants have a long trunk used for many purposes, \n",
    "particularly breathing, lifting water and grasping objects. Their \n",
    "incisors grow into tusks, which can serve as weapons and as tools \n",
    "for moving objects and digging. Elephants' large ear flaps help \n",
    "to control their body temperature. Their pillar-like legs can \n",
    "carry their great weight. African elephants have larger ears \n",
    "and concave backs while Asian elephants have smaller ears \n",
    "and convex or level backs.  \n",
    "\"\"\""
   ]
  },
  {
   "cell_type": "code",
   "execution_count": 37,
   "metadata": {},
   "outputs": [],
   "source": [
    "#from normalization import parse_document\n",
    "import itertools\n",
    "import nltk\n",
    "from normalization import stopword_list\n",
    "from gensim import corpora, models\n",
    "\n",
    "def get_chunks(sentences, grammar=r'NP:{<DT>? <JJ>* <NN.*>+}'):\n",
    "    '''\n",
    "    首先用它的POS标签来标注它\n",
    "    然后构建一个具有名词短语的浅层分析树作为词块和其他全部基于POS标签的单词作为缝隙\n",
    "    接着使用tree2conlltags函数来生成(w,t,c)三元组,分别表示(单词,POS标签,IOB格式的词块标签)\n",
    "    删除所有词块带有'O'标签的标签,因为它们基本上不属于任何词块的单词或词项.\n",
    "    最后组合分块的词项,并从每个词块分组中生成短语.\n",
    "    '''\n",
    "    #build chunker based on grammar pattern\n",
    "    all_chunks = []\n",
    "    chunker = nltk.chunk.regexp.RegexpParser(grammar)\n",
    "    \n",
    "    for sentence in sentences:\n",
    "        #POS tag sentences\n",
    "        tagged_sents = nltk.pos_tag_sents([nltk.word_tokenize(sentence)])\n",
    "        \n",
    "        #extract chunks\n",
    "        chunks = [chunker.parse(tagged_sent) for tagged_sent in tagged_sents]\n",
    "    \n",
    "        #get word, pos tag, chunk tag triples\n",
    "        wtc_sents = [nltk.chunk.tree2conlltags(chunk) for chunk in chunks]\n",
    "    \n",
    "        flattened_chunks = list(itertools.chain.from_iterable(wtc_sent for wtc_sent in wtc_sents))\n",
    "    \n",
    "        #get valid chunks based on tags\n",
    "        valid_chunks_tagged = [(status, [wtc for wtc in chunk]) \n",
    "                              for status, chunk in itertools.groupby(flattened_chunks, lambda(word,pos,chunk):chunk!='O')]\n",
    "        #append words in eaech chunk to make phrases\n",
    "        valid_chunks = [' '.join(word.lower() for word, tag, chunk in wtc_group if word.lower() not in stopword_list)\n",
    "                       for status, wtc_group in valid_chunks_tagged if status]\n",
    "    \n",
    "        #append all valid chunked phrases\n",
    "        all_chunks.append(valid_chunks)\n",
    "    \n",
    "    return all_chunks"
   ]
  },
  {
   "cell_type": "code",
   "execution_count": 38,
   "metadata": {},
   "outputs": [
    {
     "name": "stdout",
     "output_type": "stream",
     "text": [
      "[['elephants', 'large mammals', 'family elephantidae', 'order proboscidea'], ['species', 'african elephant', 'asian elephant'], ['elephants', 'sub-saharan africa', 'south asia', 'southeast asia'], ['male african elephants', 'extant terrestrial animals'], ['elephants', 'long trunk', 'many purposes', 'breathing', 'water', 'grasping objects'], ['incisors', 'tusks', 'weapons', 'tools', 'objects', 'digging'], ['elephants', 'large ear flaps', 'body temperature'], ['pillar-like legs', 'great weight'], ['african elephants', 'ears', 'backs', 'asian elephants', 'ears', 'convex', 'level backs']]\n"
     ]
    }
   ],
   "source": [
    "sentences = parse_document(toy_text)\n",
    "valid_chunks = get_chunks(sentences)\n",
    "print valid_chunks"
   ]
  },
  {
   "cell_type": "markdown",
   "metadata": {},
   "source": [
    "现在实现第二步的必要逻辑来构建get_chunks函数.在这里将使用gensim来构建一个基于TF-IDF的关键短语模型,\n",
    "\n",
    "然后根据每个关键短语在语料库中的发生频率来计算它的TF-IDF权重.\n",
    "\n",
    "最后根据TF-IDF权重对这些关键短语进行分类排序,并返回topN关键短语."
   ]
  },
  {
   "cell_type": "code",
   "execution_count": 39,
   "metadata": {
    "collapsed": true
   },
   "outputs": [],
   "source": [
    "def get_tfidf_weighted_keyphrases(sentences,grammar=r'NP:{<DT>? <JJ>* <NN.*>+}', top_n=10):\n",
    "    #get valid chunks\n",
    "    valid_chunks = get_chunks(sentences, grammar=grammar)\n",
    "    #build tf-idf based model\n",
    "    dictionary = corpora.Dictionary(valid_chunks)\n",
    "    corpus = [dictionary.doc2bow(chunk) for chunk in valid_chunks]\n",
    "    tfidf = models.TfidfModel(corpus)\n",
    "    corpus_tfidf = tfidf[corpus]\n",
    "    #get phrases and their tf-idf weights\n",
    "    weighted_phrases = {dictionary.get(id): round(value,3) for doc in corpus_tfidf for id, value in doc}\n",
    "    weighted_phrases = sorted(weighted_phrases.items(), key=itemgetter(1), reverse=True)\n",
    "    \n",
    "    #return top weighted phrases\n",
    "    return weighted_phrases[:top_n]\n"
   ]
  },
  {
   "cell_type": "code",
   "execution_count": 40,
   "metadata": {},
   "outputs": [
    {
     "data": {
      "text/plain": [
       "[(u'pillar-like legs', 0.707),\n",
       " (u'male african elephants', 0.707),\n",
       " (u'great weight', 0.707),\n",
       " (u'extant terrestrial animals', 0.707),\n",
       " (u'large ear flaps', 0.684),\n",
       " (u'body temperature', 0.684),\n",
       " (u'ears', 0.667),\n",
       " (u'species', 0.577),\n",
       " (u'african elephant', 0.577),\n",
       " (u'asian elephant', 0.577)]"
      ]
     },
     "execution_count": 40,
     "metadata": {},
     "output_type": "execute_result"
    }
   ],
   "source": [
    "get_tfidf_weighted_keyphrases(sentences, top_n=10)"
   ]
  },
  {
   "cell_type": "markdown",
   "metadata": {},
   "source": [
    "## 主题模型\n",
    "主题模型的主要目的是使用数学和统计技术来发现语料库中的隐藏和潜在语义结构\n",
    "\n",
    "主题建模涉及从文档词项中提取特征,并使用矩阵分解和SVD等数学机构和框架来生成彼此不同的词簇或词组,并且这些词簇形成主题或概念.\n",
    "\n",
    "构建主题模型有各种框架和算法.我们将介绍以下三种方法:\n",
    "- 隐含语义索引\n",
    "- 隐含Dirichlet分布\n",
    "- 非负矩阵分解"
   ]
  },
  {
   "cell_type": "code",
   "execution_count": 41,
   "metadata": {
    "collapsed": true
   },
   "outputs": [],
   "source": [
    "toy_corpus = [\"The fox jumps over the dog\",\n",
    "\"The fox is very clever and quick\",\n",
    "\"The dog is slow and lazy\",\n",
    "\"The cat is smarter than the fox and the dog\",\n",
    "\"Python is an excellent programming language\",\n",
    "\"Java and Ruby are other programming languages\",\n",
    "\"Python and Java are very popular programming languages\",\n",
    "\"Python programs are smaller than Java programs\"]"
   ]
  },
  {
   "cell_type": "markdown",
   "metadata": {},
   "source": [
    "### 隐含语义索引\n",
    "我们的第一种技术是隐含语义索引(latent semantic indexing, LSI).LSI不仅用于文本摘要,还用于信息检索和搜索.\n",
    "\n",
    "LSI背后的主要原理是相似词趋向于在想听语境中使用,因此往往会更多地共同出现."
   ]
  },
  {
   "cell_type": "code",
   "execution_count": 49,
   "metadata": {},
   "outputs": [
    {
     "data": {
      "text/plain": [
       "[['fox', 'jumps', 'dog'],\n",
       " ['fox', 'clever', 'quick'],\n",
       " ['dog', 'slow', 'lazy'],\n",
       " ['cat', 'smarter', 'fox', 'dog'],\n",
       " ['python', 'excellent', 'programming', 'language'],\n",
       " ['java', 'ruby', 'programming', 'languages'],\n",
       " ['python', 'java', 'popular', 'programming', 'languages'],\n",
       " ['python', 'programs', 'smaller', 'java', 'programs']]"
      ]
     },
     "execution_count": 49,
     "metadata": {},
     "output_type": "execute_result"
    }
   ],
   "source": [
    "from gensim import corpora, models\n",
    "import numpy as np\n",
    "\n",
    "norm_tokenized_corpus = normalize_corpus(toy_corpus, tokenize=True,lemmatize=False)\n",
    "norm_tokenized_corpus"
   ]
  },
  {
   "cell_type": "code",
   "execution_count": 50,
   "metadata": {},
   "outputs": [
    {
     "name": "stdout",
     "output_type": "stream",
     "text": [
      "{u'lazy': 5, u'clever': 4, u'java': 14, u'programming': 10, u'language': 11, u'programs': 18, u'python': 9, u'smarter': 7, u'jumps': 0, u'fox': 1, u'dog': 2, u'cat': 8, u'languages': 13, u'popular': 16, u'slow': 6, u'excellent': 12, u'quick': 3, u'ruby': 15, u'smaller': 17}\n"
     ]
    }
   ],
   "source": [
    "# build the dictionary\n",
    "dictionary = corpora.Dictionary(norm_tokenized_corpus)\n",
    "#view the dictionary mappings\n",
    "print dictionary.token2id"
   ]
  },
  {
   "cell_type": "code",
   "execution_count": 51,
   "metadata": {},
   "outputs": [
    {
     "data": {
      "text/plain": [
       "[[(0, 1), (1, 1), (2, 1)],\n",
       " [(1, 1), (3, 1), (4, 1)],\n",
       " [(2, 1), (5, 1), (6, 1)],\n",
       " [(1, 1), (2, 1), (7, 1), (8, 1)],\n",
       " [(9, 1), (10, 1), (11, 1), (12, 1)],\n",
       " [(10, 1), (13, 1), (14, 1), (15, 1)],\n",
       " [(9, 1), (10, 1), (13, 1), (14, 1), (16, 1)],\n",
       " [(9, 1), (14, 1), (17, 1), (18, 2)]]"
      ]
     },
     "execution_count": 51,
     "metadata": {},
     "output_type": "execute_result"
    }
   ],
   "source": [
    "#convert tokenized documents into bag of words vectors\n",
    "\n",
    "corpus = [dictionary.doc2bow(text) for text in norm_tokenized_corpus]\n",
    "corpus"
   ]
  },
  {
   "cell_type": "code",
   "execution_count": 53,
   "metadata": {},
   "outputs": [
    {
     "name": "stdout",
     "output_type": "stream",
     "text": [
      "Topic #1\n",
      "-0.475*\"languages\" + -0.423*\"programming\" + -0.378*\"java\" + -0.360*\"popular\" + -0.352*\"ruby\" + -0.299*\"python\" + -0.185*\"language\" + -0.185*\"excellent\" + -0.179*\"programs\" + -0.090*\"smaller\"\n",
      "\n",
      "Topic #2\n",
      "0.459*\"dog\" + 0.459*\"fox\" + 0.444*\"jumps\" + 0.322*\"smarter\" + 0.322*\"cat\" + 0.208*\"slow\" + 0.208*\"clever\" + 0.208*\"lazy\" + 0.208*\"quick\" + 0.000*\"popular\"\n",
      "\n"
     ]
    }
   ],
   "source": [
    "#build tf-idf feature vectors\n",
    "tfidf = models.TfidfModel(corpus)\n",
    "\n",
    "corpus_tfidf = tfidf[corpus]\n",
    "\n",
    "#fix the number of topics\n",
    "total_topics = 2\n",
    "\n",
    "#build the topic model\n",
    "lsi = models.LsiModel(corpus_tfidf, id2word=dictionary,num_topics=total_topics)\n",
    "\n",
    "for index, topic in lsi.print_topics(total_topics):\n",
    "    print 'Topic #'+str(index+1)\n",
    "    print topic\n",
    "    print"
   ]
  },
  {
   "cell_type": "code",
   "execution_count": 59,
   "metadata": {
    "collapsed": true
   },
   "outputs": [],
   "source": [
    "def print_topics_gensim(topic_model, total_topics=1, \n",
    "                       weight_threshold=0.0001,\n",
    "                       display_weights=False,\n",
    "                       num_terms=None):\n",
    "    for index in range(total_topics):\n",
    "        topic = topic_model.show_topic(index)\n",
    "        topic = [(word, round(wt,2)) for word, wt in topic if abs(wt) >= weight_threshold]\n",
    "        if display_weights:\n",
    "            print 'Topic #'+str(index+1)+' with weights'\n",
    "            print topic[:num_terms] if num_terms else topic\n",
    "        else:\n",
    "            print 'Topic #' + str(index+1)+' without weights'\n",
    "            tw = [term for term, wt in topic]\n",
    "            print tw[:num_terms] if num_terms else tw\n",
    "        print"
   ]
  },
  {
   "cell_type": "code",
   "execution_count": 60,
   "metadata": {},
   "outputs": [
    {
     "name": "stdout",
     "output_type": "stream",
     "text": [
      "Topic #1 without weights\n",
      "[u'languages', u'programming', u'java', u'popular', u'ruby']\n",
      "\n",
      "Topic #2 without weights\n",
      "[u'dog', u'fox', u'jumps', u'smarter', u'cat']\n",
      "\n"
     ]
    }
   ],
   "source": [
    "#print topics without weights\n",
    "print_topics_gensim(topic_model=lsi,\n",
    "                   total_topics=total_topics,\n",
    "                   num_terms=5,\n",
    "                   display_weights=False)"
   ]
  },
  {
   "cell_type": "code",
   "execution_count": 61,
   "metadata": {},
   "outputs": [
    {
     "name": "stdout",
     "output_type": "stream",
     "text": [
      "Topic #1 with weights\n",
      "[(u'languages', -0.48), (u'programming', -0.42), (u'java', -0.38), (u'popular', -0.36), (u'ruby', -0.35)]\n",
      "\n",
      "Topic #2 with weights\n",
      "[(u'dog', 0.46), (u'fox', 0.46), (u'jumps', 0.44), (u'smarter', 0.32), (u'cat', 0.32)]\n",
      "\n"
     ]
    }
   ],
   "source": [
    "#print topics with their weights\n",
    "print_topics_gensim(topic_model=lsi,\n",
    "                   total_topics=total_topics,\n",
    "                   num_terms=5,\n",
    "                   display_weights=True)"
   ]
  },
  {
   "cell_type": "markdown",
   "metadata": {},
   "source": [
    "接下来,我们使用SVD从头开始构建自己的LSI主题模型框架.\n",
    "\n",
    "首先建立一个TF-IDF特征矩阵,即文档-词项矩阵\n",
    "\n",
    "转置特征矩阵变成词项-文档矩阵."
   ]
  },
  {
   "cell_type": "code",
   "execution_count": 63,
   "metadata": {},
   "outputs": [],
   "source": [
    "from utils import build_feature_matrix, low_rank_svd\n",
    "from normalization import lemmatize_text\n",
    "\n",
    "#build the term document tf-idf weighted matrix\n",
    "norm_corpus = normalize_corpus(toy_corpus)\n",
    "vectorizer, tfidf_matrix = build_feature_matrix(norm_corpus, feature_type='tfidf')\n",
    "\n",
    "td_matrix = tfidf_matrix.transpose()\n",
    "\n",
    "td_matrix = td_matrix.multiply(td_matrix>0)\n",
    "\n",
    "#fix total topics and get the terms used in the term-document matrix\n",
    "total_topics = 2\n",
    "feature_names = vectorizer.get_feature_names()"
   ]
  },
  {
   "cell_type": "code",
   "execution_count": 64,
   "metadata": {
    "collapsed": true
   },
   "outputs": [],
   "source": [
    "#使用low_rank_svd()函数计算我们的词项-文档矩阵的SVD\n",
    "u,s,vt = low_rank_svd(td_matrix, singular_count=total_topics)\n",
    "weights = u.transpose() * s[:, None]"
   ]
  },
  {
   "cell_type": "code",
   "execution_count": 68,
   "metadata": {
    "collapsed": true
   },
   "outputs": [],
   "source": [
    "#get topics with their terms and weights\n",
    "def get_topics_terms_weights(weights, feature_names):\n",
    "    feature_names = np.array(feature_names)\n",
    "    sorted_indices = np.array([list(row[::-1]) for row in np.argsort(np.abs(weights))])\n",
    "    \n",
    "    sorted_weights = np.array([list(wt[index]) for wt, index in zip(weights, sorted_indices)])\n",
    "    \n",
    "    sorted_terms = np.array([list(feature_names[row]) for row in sorted_indices])\n",
    "    \n",
    "    topics = [np.vstack((terms.T, term_weights.T)).T for terms, term_weights in zip(sorted_terms, sorted_weights)]\n",
    "    \n",
    "    return topics"
   ]
  },
  {
   "cell_type": "code",
   "execution_count": 66,
   "metadata": {
    "collapsed": true
   },
   "outputs": [],
   "source": [
    "# print all the topics from corpus\n",
    "def print_topics_udf(topics, total_topics=1, weight_threshold=0.0001, display_weights=False, num_terms=None):\n",
    "    for index in range(total_topics):\n",
    "        topic = topics[index]\n",
    "        topic = [(term, float(wt)) for term, wt in topic]\n",
    "        topic = [(word, round(wt, 2)) for word, wt in topic if abs(wt)>=weight_threshold]\n",
    "        \n",
    "        if display_weights:\n",
    "            print 'Topic #'+str(index+1)+' with weights'\n",
    "            print topic[:num_terms] if num_terms else topic\n",
    "        else:\n",
    "            print 'Topic #'+str(index+1)+' without weights'\n",
    "            tw = [term for term, wt in topic]\n",
    "            print tw[:num_terms] if num_terms else tw\n",
    "        print"
   ]
  },
  {
   "cell_type": "code",
   "execution_count": 69,
   "metadata": {},
   "outputs": [
    {
     "name": "stdout",
     "output_type": "stream",
     "text": [
      "Topic #1 with weights\n",
      "[(u'dog', 0.72), (u'fox', 0.72), (u'jump', 0.43), (u'smarter', 0.34), (u'cat', 0.34), (u'slow', 0.23), (u'lazy', 0.23), (u'quick', 0.23), (u'clever', 0.23), (u'programming', 0.0), (u'language', 0.0), (u'java', 0.0), (u'python', 0.0), (u'popular', 0.0), (u'program', 0.0), (u'ruby', 0.0), (u'excellent', 0.0), (u'small', 0.0)]\n",
      "\n",
      "Topic #2 with weights\n",
      "[(u'programming', -0.73), (u'language', -0.73), (u'python', -0.56), (u'java', -0.56), (u'popular', -0.34), (u'ruby', -0.33), (u'excellent', -0.33), (u'program', -0.21), (u'small', -0.11), (u'dog', 0.0), (u'fox', 0.0), (u'lazy', 0.0), (u'slow', 0.0), (u'jump', 0.0), (u'smarter', 0.0), (u'cat', 0.0), (u'quick', 0.0), (u'clever', 0.0)]\n",
      "\n"
     ]
    }
   ],
   "source": [
    "topics = get_topics_terms_weights(weights, feature_names)\n",
    "print_topics_udf(topics=topics, total_topics=total_topics, weight_threshold=0, display_weights=True)"
   ]
  },
  {
   "cell_type": "code",
   "execution_count": 70,
   "metadata": {},
   "outputs": [
    {
     "name": "stdout",
     "output_type": "stream",
     "text": [
      "Topic #1 with weights\n",
      "[(u'dog', 0.72), (u'fox', 0.72), (u'jump', 0.43), (u'smarter', 0.34), (u'cat', 0.34), (u'slow', 0.23), (u'lazy', 0.23), (u'quick', 0.23), (u'clever', 0.23)]\n",
      "\n",
      "Topic #2 with weights\n",
      "[(u'programming', -0.73), (u'language', -0.73), (u'python', -0.56), (u'java', -0.56), (u'popular', -0.34), (u'ruby', -0.33), (u'excellent', -0.33), (u'program', -0.21)]\n",
      "\n"
     ]
    }
   ],
   "source": [
    "#指定一个阈值,去掉那些相关性比较低的词\n",
    "print_topics_udf(topics=topics,\n",
    "                total_topics=total_topics,\n",
    "                weight_threshold=0.15,\n",
    "                display_weights=True)"
   ]
  },
  {
   "cell_type": "code",
   "execution_count": 71,
   "metadata": {},
   "outputs": [
    {
     "name": "stdout",
     "output_type": "stream",
     "text": [
      "Topic #1 without weights\n",
      "[u'dog', u'fox', u'jump', u'smarter', u'cat', u'slow', u'lazy', u'quick', u'clever']\n",
      "\n",
      "Topic #2 without weights\n",
      "[u'programming', u'language', u'python', u'java', u'popular', u'ruby', u'excellent', u'program']\n",
      "\n"
     ]
    }
   ],
   "source": [
    "print_topics_udf(topics=topics, total_topics=total_topics,weight_threshold=0.15, display_weights=False)"
   ]
  },
  {
   "cell_type": "code",
   "execution_count": 72,
   "metadata": {
    "collapsed": true
   },
   "outputs": [],
   "source": [
    "def train_lsi_model_gensim(corpus, total_topics=2):\n",
    "    norm_tokenized_corpus = normalize_corpus(corpus, tokenize=True)\n",
    "    dictionary = corpora.Dictionary(norm_tokenized_corpus)\n",
    "    mapped_corpus = [dictionary.doc2bow(text) for text in norm_tokenized_corpus]\n",
    "    tfidf = models.TfidfModel(mapped_corpus)\n",
    "    corpus_tfidf = tfidf[mapped_corpus]\n",
    "    lsi = models.LsiModel(corpus_tfidf, id2word=dictionary, num_topics=total_topics)\n",
    "    return lsi"
   ]
  },
  {
   "cell_type": "markdown",
   "metadata": {},
   "source": [
    "### 隐含Dirichlet分布\n",
    "隐含狄利克雷分布(LDA)技术是一种概率生成模型.\n",
    "\n",
    "更多相关原理内容请阅读:http://chdoig.github.io/pygotham-topic-modeling/#/"
   ]
  },
  {
   "cell_type": "code",
   "execution_count": 73,
   "metadata": {
    "collapsed": true
   },
   "outputs": [],
   "source": [
    "#以下使用gensim来构建基于LDA的主题模型\n",
    "def train_lda_model_gensim(corpus, total_topics=2):\n",
    "    norm_tokenized_corpus = normalize_corpus(corpus, tokenize=True)\n",
    "    dictionary = corpora.Dictionary(norm_tokenized_corpus)\n",
    "    mapped_corpus = [dictionary.doc2bow(text) for text in norm_tokenized_corpus]\n",
    "    \n",
    "    tfidf = models.TfidfModel(mapped_corpus)\n",
    "    corpus_tfidf = tfidf[mapped_corpus]\n",
    "    lda = models.LdaModel(corpus_tfidf, id2word=dictionary,iterations=1000, num_topics=total_topics)\n",
    "    return lda"
   ]
  },
  {
   "cell_type": "code",
   "execution_count": 74,
   "metadata": {},
   "outputs": [
    {
     "name": "stdout",
     "output_type": "stream",
     "text": [
      "Topic #1 with weights\n",
      "[(u'program', 0.08), (u'programming', 0.07), (u'language', 0.07), (u'excellent', 0.07), (u'python', 0.07)]\n",
      "\n",
      "Topic #2 with weights\n",
      "[(u'dog', 0.08), (u'fox', 0.07), (u'slow', 0.06), (u'lazy', 0.06), (u'popular', 0.06)]\n",
      "\n"
     ]
    }
   ],
   "source": [
    "#use the function to generate topics on toy corpus\n",
    "lda_gensim = train_lda_model_gensim(toy_corpus, total_topics=2)\n",
    "\n",
    "print_topics_gensim(topic_model=lda_gensim, total_topics=2, num_terms=5, display_weights=True)"
   ]
  },
  {
   "cell_type": "code",
   "execution_count": 75,
   "metadata": {},
   "outputs": [
    {
     "name": "stderr",
     "output_type": "stream",
     "text": [
      "/home/parallels/anaconda2/lib/python2.7/site-packages/sklearn/decomposition/online_lda.py:294: DeprecationWarning: n_topics has been renamed to n_components in version 0.19 and will be removed in 0.21\n",
      "  DeprecationWarning)\n"
     ]
    }
   ],
   "source": [
    "#使用sklearn中的LDA模型进行建模\n",
    "from sklearn.decomposition import LatentDirichletAllocation\n",
    "\n",
    "#get tf-idf based features\n",
    "norm_corpus = normalize_corpus(toy_corpus)\n",
    "vectorizer, tfidf_matrix =  build_feature_matrix(norm_corpus, feature_type='tfidf')\n",
    "\n",
    "#build LDA model\n",
    "total_topics = 2\n",
    "lda = LatentDirichletAllocation(n_topics=total_topics, max_iter=100, \n",
    "                               learning_method='online',\n",
    "                               learning_offset=50.,\n",
    "                               random_state=42)\n",
    "lda.fit(tfidf_matrix)\n",
    "\n",
    "#get terms and their weights\n",
    "feature_names = vectorizer.get_feature_names()\n",
    "\n",
    "#generate topics from their terms and weights\n",
    "topics = get_topics_terms_weights(weights, feature_names)"
   ]
  },
  {
   "cell_type": "code",
   "execution_count": 76,
   "metadata": {},
   "outputs": [
    {
     "name": "stdout",
     "output_type": "stream",
     "text": [
      "Topic #1 with weights\n",
      "[(u'dog', 0.72), (u'fox', 0.72), (u'jump', 0.43), (u'smarter', 0.34), (u'cat', 0.34), (u'slow', 0.23), (u'lazy', 0.23), (u'quick', 0.23)]\n",
      "\n",
      "Topic #2 with weights\n",
      "[(u'programming', -0.73), (u'language', -0.73), (u'python', -0.56), (u'java', -0.56), (u'popular', -0.34), (u'ruby', -0.33), (u'excellent', -0.33), (u'program', -0.21)]\n",
      "\n"
     ]
    }
   ],
   "source": [
    "topics = get_topics_terms_weights(weights, feature_names)\n",
    "print_topics_udf(topics=topics,total_topics=total_topics,num_terms=8,display_weights=True)"
   ]
  },
  {
   "cell_type": "markdown",
   "metadata": {},
   "source": [
    "### 非负矩阵分解\n",
    "它是另一种类似于SVD的矩阵分解技术.非负矩阵(NNMF)定义为:给定非负矩阵V,目标是找到两个非负矩阵因子W和H,使得它们相乘时,它们可以近似重构V."
   ]
  },
  {
   "cell_type": "code",
   "execution_count": 78,
   "metadata": {},
   "outputs": [],
   "source": [
    "from sklearn.decomposition import NMF\n",
    "\n",
    "#build tf-idf document-term matrix\n",
    "norm_corpus = normalize_corpus(toy_corpus)\n",
    "vectorizer, tfidf_matrix = build_feature_matrix(norm_corpus, feature_type='tfidf')\n",
    "#build topic model\n",
    "total_topics = 2\n",
    "\n",
    "nmf = NMF(n_components=total_topics, random_state=42, alpha=.1, l1_ratio=.5)\n",
    "nmf.fit(tfidf_matrix)\n",
    "\n",
    "#get terms and their weights\n",
    "feature_names = vectorizer.get_feature_names()\n",
    "weights = nmf.components_"
   ]
  },
  {
   "cell_type": "code",
   "execution_count": 79,
   "metadata": {},
   "outputs": [
    {
     "name": "stdout",
     "output_type": "stream",
     "text": [
      "Topic #1 with weights\n",
      "[(u'programming', 0.55), (u'language', 0.55), (u'python', 0.4), (u'java', 0.4), (u'popular', 0.24), (u'ruby', 0.23), (u'excellent', 0.23), (u'program', 0.09), (u'small', 0.03)]\n",
      "\n",
      "Topic #2 with weights\n",
      "[(u'dog', 0.57), (u'fox', 0.57), (u'jump', 0.35), (u'smarter', 0.26), (u'cat', 0.26), (u'quick', 0.13), (u'slow', 0.13), (u'clever', 0.13), (u'lazy', 0.13)]\n",
      "\n"
     ]
    }
   ],
   "source": [
    "topics = get_topics_terms_weights(weights, feature_names)\n",
    "print_topics_udf(topics=topics, total_topics=total_topics,num_terms=None,display_weights=True)"
   ]
  },
  {
   "cell_type": "markdown",
   "metadata": {},
   "source": [
    "### 从产品评论中提取主题"
   ]
  },
  {
   "cell_type": "code",
   "execution_count": 83,
   "metadata": {},
   "outputs": [
    {
     "data": {
      "text/plain": [
       "Index([u'Reviews'], dtype='object')"
      ]
     },
     "execution_count": 83,
     "metadata": {},
     "output_type": "execute_result"
    }
   ],
   "source": [
    "import pandas as pd\n",
    "import numpy as np\n",
    "\n",
    "#load reviews\n",
    "CORPUS = pd.read_csv('amazon_skyrim_reviews.csv')\n",
    "\n",
    "CORPUS.columns"
   ]
  },
  {
   "cell_type": "code",
   "execution_count": 84,
   "metadata": {},
   "outputs": [
    {
     "name": "stdout",
     "output_type": "stream",
     "text": [
      "I base the value of a game on the amount of enjoyable gameplay I can get out of it and this one was definitely worth the price!\n"
     ]
    }
   ],
   "source": [
    "CORPUS = np.array(CORPUS['Reviews'])\n",
    "\n",
    "#view sample review\n",
    "print CORPUS[12]"
   ]
  },
  {
   "cell_type": "code",
   "execution_count": 85,
   "metadata": {},
   "outputs": [
    {
     "name": "stdout",
     "output_type": "stream",
     "text": [
      "Topic #1 without weights\n",
      "[u'skyrim', u'like', u'one', u'play', u'quest', u'get', u'go', u'good', u'time', u'oblivion']\n",
      "\n",
      "Topic #2 without weights\n",
      "[u'recommend', u'love', u'great', u'ever', u'best', u'buy', u'elder', u'scroll', u'highly', u'level']\n",
      "\n",
      "Topic #3 without weights\n",
      "[u'recommend', u'highly', u'fun', u'love', u'ever', u'wonderful', u'good', u'best', u'series', u'definitely']\n",
      "\n",
      "Topic #4 without weights\n",
      "[u'fun', u'scroll', u'elder', u'recommend', u'highly', u'ever', u'wonderful', u'graphic', u'cool', u'best']\n",
      "\n",
      "Topic #5 without weights\n",
      "[u'fun', u'love', u'scroll', u'elder', u'highly', u'hour', u'dont', u'recommend', u'ive', u'wonderful']\n",
      "\n"
     ]
    }
   ],
   "source": [
    "#set number of topic\n",
    "total_topics = 5\n",
    "\n",
    "#Technique 1: 隐含语义索引\n",
    "lsi_gensim = train_lsi_model_gensim(CORPUS, total_topics=total_topics)\n",
    "print_topics_gensim(topic_model=lsi_gensim,\n",
    "                   total_topics=total_topics,\n",
    "                   num_terms=10,\n",
    "                   display_weights=False)"
   ]
  },
  {
   "cell_type": "code",
   "execution_count": 86,
   "metadata": {},
   "outputs": [
    {
     "name": "stdout",
     "output_type": "stream",
     "text": [
      "Topic #1 without weights\n",
      "[u'great', u'love', u'get', u'buy', u'world', u'quest', u'time', u'best', u'play', u'xbox']\n",
      "\n",
      "Topic #2 without weights\n",
      "[u'one', u'play', u'good', u'fun', u'quest', u'many', u'even', u'like', u'time', u'get']\n",
      "\n",
      "Topic #3 without weights\n",
      "[u'play', u'ever', u'oblivion', u'get', u'everything', u'good', u'skyrim', u'go', u'mission', u'quest']\n",
      "\n",
      "Topic #4 without weights\n",
      "[u'skyrim', u'like', u'play', u'hour', u'love', u'much', u'buy', u'great', u'say', u'recommend']\n",
      "\n",
      "Topic #5 without weights\n",
      "[u'fun', u'best', u'one', u'ever', u'skyrim', u'make', u'oblivion', u'love', u'like', u'really']\n",
      "\n"
     ]
    }
   ],
   "source": [
    "#Technique 2a: Latent Dirichlet Allocation(gensim)\n",
    "lda_gensim = train_lda_model_gensim(CORPUS, total_topics=total_topics)\n",
    "print_topics_gensim(topic_model=lda_gensim,\n",
    "                   total_topics=total_topics,\n",
    "                   num_terms=10,\n",
    "                   display_weights=False)"
   ]
  },
  {
   "cell_type": "code",
   "execution_count": 87,
   "metadata": {},
   "outputs": [
    {
     "name": "stderr",
     "output_type": "stream",
     "text": [
      "/home/parallels/anaconda2/lib/python2.7/site-packages/sklearn/decomposition/online_lda.py:294: DeprecationWarning: n_topics has been renamed to n_components in version 0.19 and will be removed in 0.21\n",
      "  DeprecationWarning)\n"
     ]
    },
    {
     "name": "stdout",
     "output_type": "stream",
     "text": [
      "Topic #1 without weights\n",
      "[u'game', u'wonder4ful', u'56', u'gamesthe', u'environmentsif', u'thank', u'dlcs', u'stewart', u'addicting', u'take']\n",
      "\n",
      "Topic #2 without weights\n",
      "[u'arrive', u'oneelder', u'damage', u'happy', u'unplayable', u'paper', u'espionage', u'eve', u'wonderful', u'quickly']\n",
      "\n",
      "Topic #3 without weights\n",
      "[u'de', u'castlesnuff', u'musicdrinking', u'beardsirish', u'wolfhoundsgiant', u'mountainsshouting', u'dragonsswordsaxespointy', u'meadwaistlength', u'helmetssnowy', u'peoplemudcrabsgreat']\n",
      "\n",
      "Topic #4 without weights\n",
      "[u'game', u'play', u'get', u'one', u'skyrim', u'great', u'like', u'time', u'much', u'go']\n",
      "\n",
      "Topic #5 without weights\n",
      "[u'game', u'go', u'scroll', u'dragon', u'time', u'good', u'even', u'play', u'amazingly', u'series']\n",
      "\n"
     ]
    }
   ],
   "source": [
    "#Technique 2b: Latent Dirichlet Allocation(sklearn)\n",
    "norm_corpus = normalize_corpus(CORPUS)\n",
    "vectorizer, tfidf_matrix = build_feature_matrix(norm_corpus, feature_type='tfidf')\n",
    "feature_names = vectorizer.get_feature_names()\n",
    "\n",
    "lda = LatentDirichletAllocation(n_topics=total_topics, max_iter=100, learning_method='online',\n",
    "                                learning_offset=50.,random_state=42)\n",
    "lda.fit(tfidf_matrix)\n",
    "weights = lda.components_\n",
    "topics = get_topics_terms_weights(weights, feature_names)\n",
    "print_topics_udf(topics=topics, total_topics=total_topics,\n",
    "                num_terms=10, display_weights=False)"
   ]
  },
  {
   "cell_type": "code",
   "execution_count": 88,
   "metadata": {},
   "outputs": [
    {
     "name": "stdout",
     "output_type": "stream",
     "text": [
      "Topic #1 without weights\n",
      "[u'game', u'get', u'skyrim', u'time', u'like', u'quest', u'play', u'go', u'one', u'much']\n",
      "\n",
      "Topic #2 without weights\n",
      "[u'game', u'play', u'ever', u'best', u'fun', u'great', u'buy', u'definitely', u'one', u'rpg']\n",
      "\n",
      "Topic #3 without weights\n",
      "[u'scroll', u'elder', u'series', u'always', u'pass', u'best', u'far', u'franchise', u'everyone', u'buy']\n",
      "\n",
      "Topic #4 without weights\n",
      "[u'love', u'game', u'like', u'fallout', u'oblivion', u'dont', u'recommend', u'come', u'chirstmas', u'intuitive']\n",
      "\n",
      "Topic #5 without weights\n",
      "[u'recommend', u'highly', u'game', u'wonderful', u'good', u'play', u'great', u'hour', u'surprises', u'option']\n",
      "\n"
     ]
    }
   ],
   "source": [
    "#Technique 3:Non-negative Matrix Factorization\n",
    "nmf = NMF(n_components=total_topics, random_state=42, alpha=.1, l1_ratio=.5)\n",
    "nmf.fit(tfidf_matrix)\n",
    "feature_names = vectorizer.get_feature_names()\n",
    "weights = nmf.components_\n",
    "topics = get_topics_terms_weights(weights, feature_names)\n",
    "print_topics_udf(topics=topics,\n",
    "                total_topics=total_topics,\n",
    "                num_terms=10,\n",
    "                display_weights=False)"
   ]
  },
  {
   "cell_type": "markdown",
   "metadata": {},
   "source": [
    "## 自动文档摘要\n",
    "数学和统计模型有助于通过观察其内容和上下文来构建和自动化概括文档的任务.\n",
    "\n",
    "应用自动化技术进行文档摘要主要有两大类做法:\n",
    "- 基于提取的技术\n",
    "    从原始文档中采集或提取几行简短的执行摘要.因为不产生新的内容所以称为\"基于提取\"\n",
    "- 基于概括的技术\n",
    "    使用知识库和语义表达来生成内容,并像人类编写一样来创建摘要"
   ]
  },
  {
   "cell_type": "code",
   "execution_count": 89,
   "metadata": {
    "collapsed": true
   },
   "outputs": [],
   "source": [
    "from gensim.summarization import summarize, keywords\n",
    "\n",
    "def text_summarization_gensim(text, summary_ratio=0.5):\n",
    "    '''将输入文档总结到其原始大小的一小部分'''\n",
    "    summary = summarize(text, split=True, ratio=summary_ratio)\n",
    "    for sentence in summary:\n",
    "        print sentence"
   ]
  },
  {
   "cell_type": "code",
   "execution_count": 90,
   "metadata": {},
   "outputs": [
    {
     "name": "stdout",
     "output_type": "stream",
     "text": [
      "Two species are traditionally recognised,  the African elephant and the Asian elephant.\n",
      "All  elephants have a long trunk used for many purposes,  particularly breathing, lifting water and grasping objects.\n",
      "African elephants have larger ears  and concave backs while Asian elephants have smaller ears  and convex or level backs.\n"
     ]
    }
   ],
   "source": [
    "docs = parse_document(toy_text)\n",
    "text = ' '.join(docs)\n",
    "text_summarization_gensim(text, summary_ratio=0.4)"
   ]
  },
  {
   "cell_type": "markdown",
   "metadata": {},
   "source": [
    "上面的输出,从9个句子,总结后得到3个句子的摘要.\n",
    "\n",
    "接下来,我们将介绍几个基于提取的摘要算法:\n",
    "- 隐含语义分析(LSA)\n",
    "- TextRank"
   ]
  },
  {
   "cell_type": "code",
   "execution_count": 91,
   "metadata": {},
   "outputs": [
    {
     "name": "stdout",
     "output_type": "stream",
     "text": [
      "Total Sentences in Document: 9\n"
     ]
    }
   ],
   "source": [
    "#parse and normalize document\n",
    "sentences = parse_document(toy_text)\n",
    "norm_sentences = normalize_corpus(sentences, lemmatize=True)\n",
    "#check total sentences in document\n",
    "total_sentences = len(norm_sentences)\n",
    "print 'Total Sentences in Document:', total_sentences"
   ]
  },
  {
   "cell_type": "markdown",
   "metadata": {},
   "source": [
    "### 隐含语义分析\n",
    "隐含语义分析(LSA)的核心原则是, 在任何文件中,在词语的相关语境中存在隐含的结构,因此也应该在相同的歧义空间中相关.\n",
    "\n",
    "相关论文请参阅:\n",
    "- using latent semantic analysis in text summarization and summary evaluation\n",
    "- generic text summarization using relevance measure and latent semantic analysis"
   ]
  },
  {
   "cell_type": "code",
   "execution_count": 92,
   "metadata": {},
   "outputs": [
    {
     "name": "stdout",
     "output_type": "stream",
     "text": [
      "[ 2.93  3.28  1.67  1.8   2.24  4.51  0.71  1.22  5.24]\n"
     ]
    }
   ],
   "source": [
    "#set the number of sentences and topics for summarized document\n",
    "num_sentences = 3\n",
    "num_topics = 3\n",
    "\n",
    "#build document term matrix based on bag of words features\n",
    "vec, dt_matrix = build_feature_matrix(sentences, feature_type='frequency')\n",
    "#convert to term document matrix\n",
    "td_matrix = dt_matrix.transpose()\n",
    "td_matrix = td_matrix.multiply(td_matrix>0)\n",
    "\n",
    "#get low rank SVD components\n",
    "u,s,vt = low_rank_svd(td_matrix, singular_count=num_topics)\n",
    "\n",
    "#remove singular values below threshold\n",
    "sv_threshold = 0.5\n",
    "min_sigma_value = max(s) * sv_threshold\n",
    "s[s<min_sigma_value] = 0\n",
    "\n",
    "#compute salience scores for all sentences in document\n",
    "salience_scores = np.sqrt(np.dot(np.square(s), np.square(vt)))\n",
    "\n",
    "#print salience score for each sentence\n",
    "print np.round(salience_scores, 2)"
   ]
  },
  {
   "cell_type": "code",
   "execution_count": 93,
   "metadata": {},
   "outputs": [
    {
     "name": "stdout",
     "output_type": "stream",
     "text": [
      "[1 5 8]\n"
     ]
    }
   ],
   "source": [
    "#rank sentences based on their salience scores\n",
    "top_sentence_indices = salience_scores.argsort()[-num_sentences:][::-1]\n",
    "top_sentence_indices.sort()\n",
    "#view top sentence index positions\n",
    "print top_sentence_indices"
   ]
  },
  {
   "cell_type": "code",
   "execution_count": 94,
   "metadata": {},
   "outputs": [
    {
     "name": "stdout",
     "output_type": "stream",
     "text": [
      "Two species are traditionally recognised,  the African elephant and the Asian elephant.\n",
      "Their  incisors grow into tusks, which can serve as weapons and as tools  for moving objects and digging.\n",
      "African elephants have larger ears  and concave backs while Asian elephants have smaller ears  and convex or level backs.\n"
     ]
    }
   ],
   "source": [
    "#get document summary by combining above sentence\n",
    "for index in top_sentence_indices:\n",
    "    print sentences[index]"
   ]
  },
  {
   "cell_type": "code",
   "execution_count": 109,
   "metadata": {
    "collapsed": true
   },
   "outputs": [],
   "source": [
    "def lsa_text_summarizer(documents, num_sentences=2, \n",
    "                       num_topics=2, feature_type='frequency',\n",
    "                       sv_threshold=0.5):\n",
    "    vec, dt_matrix = build_feature_matrix(documents, feature_type=feature_type)\n",
    "    td_matrix = dt_matrix.transpose()\n",
    "    td_matrix = td_matrix.multiply(td_matrix>0)\n",
    "    \n",
    "    u,s,vt = low_rank_svd(td_matrix, singular_count=num_topics)\n",
    "    min_sigma_value = max(s) * sv_threshold\n",
    "    s[s<min_sigma_value] = 0\n",
    "    \n",
    "    salience_scores = np.sqrt(np.dot(np.square(s), np.square(vt)))\n",
    "    top_sentence_indices = salience_scores.argsort()[-num_sentences:][::-1]\n",
    "    top_sentence_indices.sort()\n",
    "    \n",
    "    for index in top_sentence_indices:\n",
    "        print sentences[index]"
   ]
  },
  {
   "cell_type": "markdown",
   "metadata": {},
   "source": [
    "### TextRank算法\n",
    "TextRank摘要算法内部使用了热门的PageRank算法,PageRank算法被谷歌用于网站和网页排名,并评估它们的重要性.\n",
    "\n",
    "PageRank中的核心算法是一种基于图的评分或排名算法,其中页面根据其重要性进行评分或排名."
   ]
  },
  {
   "cell_type": "code",
   "execution_count": 98,
   "metadata": {},
   "outputs": [
    {
     "name": "stdout",
     "output_type": "stream",
     "text": [
      "[[ 1.    0.07  0.03  0.12  0.03  0.    0.11  0.    0.1 ]\n",
      " [ 0.07  1.    0.06  0.17  0.05  0.    0.07  0.    0.24]\n",
      " [ 0.03  0.06  1.    0.03  0.02  0.    0.03  0.    0.04]\n",
      " [ 0.12  0.17  0.03  1.    0.03  0.    0.11  0.    0.17]\n",
      " [ 0.03  0.05  0.02  0.03  1.    0.07  0.03  0.    0.04]\n",
      " [ 0.    0.    0.    0.    0.07  1.    0.    0.    0.  ]\n",
      " [ 0.11  0.07  0.03  0.11  0.03  0.    1.    0.    0.25]\n",
      " [ 0.    0.    0.    0.    0.    0.    0.    1.    0.  ]\n",
      " [ 0.1   0.24  0.04  0.17  0.04  0.    0.25  0.    1.  ]]\n"
     ]
    }
   ],
   "source": [
    "import networkx #用来绘制图\n",
    "import matplotlib.pyplot as plt\n",
    "%matplotlib inline\n",
    "#define number of sentences in final summary\n",
    "num_sentences = 3\n",
    "\n",
    "#construct weighted document term matrix\n",
    "vec, dt_matrix = build_feature_matrix(norm_sentences, feature_type='tfidf')\n",
    "\n",
    "#construct the document similarity matrix\n",
    "similarity_matrix = (dt_matrix * dt_matrix.T)\n",
    "\n",
    "#view the document similarity matrix\n",
    "print np.round(similarity_matrix.todense(),2)"
   ]
  },
  {
   "cell_type": "code",
   "execution_count": 99,
   "metadata": {},
   "outputs": [
    {
     "data": {
      "image/png": "[encoded data removed]",
      "text/plain": [
       "<matplotlib.figure.Figure at 0x7f187da10d90>"
      ]
     },
     "metadata": {},
     "output_type": "display_data"
    }
   ],
   "source": [
    "#build the similarity graph\n",
    "similarity_graph = networkx.from_scipy_sparse_matrix(similarity_matrix)\n",
    "networkx.draw_networkx(similarity_graph)"
   ]
  },
  {
   "cell_type": "code",
   "execution_count": 100,
   "metadata": {},
   "outputs": [
    {
     "data": {
      "text/plain": [
       "[(0.1260151606691553, 8),\n",
       " (0.11769948454730826, 1),\n",
       " (0.1155110798308875, 3),\n",
       " (0.11307411334947311, 6),\n",
       " (0.1111111111111111, 7),\n",
       " (0.10710233370898546, 0),\n",
       " (0.10526679762596763, 4),\n",
       " (0.10500231000824425, 5),\n",
       " (0.099217609148867181, 2)]"
      ]
     },
     "execution_count": 100,
     "metadata": {},
     "output_type": "execute_result"
    }
   ],
   "source": [
    "#compute pagerank scores for all the sentences\n",
    "scores = networkx.pagerank(similarity_graph)\n",
    "\n",
    "#rank sentences based on their scores\n",
    "ranked_sentences = sorted(((score, index) for index, score in scores.items()), reverse=True)\n",
    "ranked_sentences"
   ]
  },
  {
   "cell_type": "code",
   "execution_count": 101,
   "metadata": {},
   "outputs": [
    {
     "name": "stdout",
     "output_type": "stream",
     "text": [
      "[1, 3, 8]\n"
     ]
    }
   ],
   "source": [
    "#get the top sentence indices for our summary\n",
    "top_sentence_indices = [ranked_sentences[index][1] for index in range(num_sentences)]\n",
    "top_sentence_indices.sort()\n",
    "\n",
    "#view the top sentence indices\n",
    "print top_sentence_indices"
   ]
  },
  {
   "cell_type": "code",
   "execution_count": 102,
   "metadata": {},
   "outputs": [
    {
     "name": "stdout",
     "output_type": "stream",
     "text": [
      "Two species are traditionally recognised,  the African elephant and the Asian elephant.\n",
      "Male  African elephants are the largest extant terrestrial animals.\n",
      "African elephants have larger ears  and concave backs while Asian elephants have smaller ears  and convex or level backs.\n"
     ]
    }
   ],
   "source": [
    "#construct the document summary\n",
    "for index in top_sentence_indices:\n",
    "    print sentences[index]"
   ]
  },
  {
   "cell_type": "code",
   "execution_count": 111,
   "metadata": {},
   "outputs": [
    {
     "name": "stdout",
     "output_type": "stream",
     "text": [
      "It is the fifth installment in The Elder Scrolls series, following  The Elder Scrolls IV: Oblivion.\n",
      "The game is set two hundred years after the events of Oblivion  and takes place in the fictional province of Skyrim.\n",
      "At the beginning of the game,  players create their character by selecting one of several races,  including humans, orcs, elves and anthropomorphic cat or lizard-like creatures,  and then customizing their character's appearance.discovered locations.\n"
     ]
    }
   ],
   "source": [
    "def textrank_text_summarizer(documents, num_sentences=2, feature_type='frequency'):\n",
    "    vec, dt_matrix = build_feature_matrix(norm_sentences, feature_type='tfidf')\n",
    "    similarity_matrix = (dt_matrix*dt_matrix.T)\n",
    "    \n",
    "    similarity_graph = networkx.from_scipy_sparse_matrix(similarity_matrix)\n",
    "    scores = networkx.pagerank(similarity_graph)\n",
    "    \n",
    "    ranked_sentences = sorted(((score, index) for index, score in scores.items()), reverse=True)\n",
    "    \n",
    "top_sentence_indices = [ranked_sentences[index][1] for index in range(num_sentences)]\n",
    "\n",
    "top_sentence_indices.sort()\n",
    "\n",
    "for index in top_sentence_indices:\n",
    "    print sentences[index]"
   ]
  },
  {
   "cell_type": "markdown",
   "metadata": {},
   "source": [
    "### 生成产品说明摘要"
   ]
  },
  {
   "cell_type": "code",
   "execution_count": 106,
   "metadata": {
    "collapsed": true
   },
   "outputs": [],
   "source": [
    "#load the document\n",
    "DOCUMENT = \"\"\"\n",
    "The Elder Scrolls V: Skyrim is an open world action role-playing video game \n",
    "developed by Bethesda Game Studios and published by Bethesda Softworks. \n",
    "It is the fifth installment in The Elder Scrolls series, following \n",
    "The Elder Scrolls IV: Oblivion. Skyrim's main story revolves around \n",
    "the player character and their effort to defeat Alduin the World-Eater, \n",
    "a dragon who is prophesied to destroy the world. \n",
    "The game is set two hundred years after the events of Oblivion \n",
    "and takes place in the fictional province of Skyrim. The player completes quests \n",
    "and develops the character by improving skills. \n",
    "Skyrim continues the open world tradition of its predecessors by allowing the \n",
    "player to travel anywhere in the game world at any time, and to \n",
    "ignore or postpone the main storyline indefinitely. The player may freely roam \n",
    "over the land of Skyrim, which is an open world environment consisting \n",
    "of wilderness expanses, dungeons, cities, towns, fortresses and villages. \n",
    "Players may navigate the game world more quickly by riding horses, \n",
    "or by utilizing a fast-travel system which allows them to warp to previously \n",
    "Players have the option to develop their character. At the beginning of the game, \n",
    "players create their character by selecting one of several races, \n",
    "including humans, orcs, elves and anthropomorphic cat or lizard-like creatures, \n",
    "and then customizing their character's appearance.discovered locations. Over the \n",
    "course of the game, players improve their character's skills, which are numerical \n",
    "representations of their ability in certain areas. There are eighteen skills \n",
    "divided evenly among the three schools of combat, magic, and stealth. \n",
    "Skyrim is the first entry in The Elder Scrolls to include Dragons in the game's \n",
    "wilderness. Like other creatures, Dragons are generated randomly in the world \n",
    "and will engage in combat. \n",
    "\"\"\""
   ]
  },
  {
   "cell_type": "code",
   "execution_count": 107,
   "metadata": {},
   "outputs": [
    {
     "name": "stdout",
     "output_type": "stream",
     "text": [
      "Total Sentences: 13\n"
     ]
    }
   ],
   "source": [
    "#normalize the document\n",
    "sentences = parse_document(DOCUMENT)\n",
    "norm_sentences = normalize_corpus(sentences, lemmatize=True)\n",
    "print 'Total Sentences:', len(norm_sentences)"
   ]
  },
  {
   "cell_type": "code",
   "execution_count": 112,
   "metadata": {},
   "outputs": [
    {
     "name": "stdout",
     "output_type": "stream",
     "text": [
      "Skyrim continues the open world tradition of its predecessors by allowing the  player to travel anywhere in the game world at any time, and to  ignore or postpone the main storyline indefinitely.\n",
      "Players may navigate the game world more quickly by riding horses,  or by utilizing a fast-travel system which allows them to warp to previously  Players have the option to develop their character.\n",
      "At the beginning of the game,  players create their character by selecting one of several races,  including humans, orcs, elves and anthropomorphic cat or lizard-like creatures,  and then customizing their character's appearance.discovered locations.\n"
     ]
    }
   ],
   "source": [
    "#LSA document summarization\n",
    "lsa_text_summarizer(norm_sentences, num_sentences=3, num_topics=5, feature_type='frequency', sv_threshold=0.5)\n",
    "\n",
    "#TextRank document summarization\n",
    "textrank_text_summarizer(norm_sentences, num_sentences=3, feature_type='tfidf')"
   ]
  },
  {
   "cell_type": "code",
   "execution_count": null,
   "metadata": {
    "collapsed": true
   },
   "outputs": [],
   "source": []
  }
 ],
 "metadata": {
  "kernelspec": {
   "display_name": "Python 2",
   "language": "python",
   "name": "python2"
  },
  "language_info": {
   "codemirror_mode": {
    "name": "ipython",
    "version": 2
   },
   "file_extension": ".py",
   "mimetype": "text/x-python",
   "name": "python",
   "nbconvert_exporter": "python",
   "pygments_lexer": "ipython2",
   "version": "2.7.13"
  }
 },
 "nbformat": 4,
 "nbformat_minor": 2
}
