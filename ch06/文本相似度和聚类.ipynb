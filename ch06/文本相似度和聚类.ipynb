{
 "cells": [
  {
   "cell_type": "markdown",
   "metadata": {
    "collapsed": true
   },
   "source": [
    "## 文本相似度\n",
    "\n",
    "文本数据是非结构化的和高噪声的.在执行文本分类时,拥有标记合理的训练数据和有监督学习大有裨益.\n",
    "\n",
    "但是,文档聚类是一个无监督的学习过程,我们将尝试通过让机器学习各种各样的文本文档及其特征,相似\n",
    "\n",
    "度以及它们之间的差异,来将文档分割和分类为单独的类别.\n",
    "\n",
    "本章将重点介绍与文本相似度,距离度量和无监督ML算法相关的几个概念,以回答以下问题:\n",
    "\n",
    "- 如何衡量文档之间的相似度?\n",
    "- 如何使用距离测量值称为度量?\n",
    "- 什么时候距离测量值称为度量?\n",
    "- 如何聚类或组合类似的文档?\n",
    "- 可以可视化文档聚类吗?\n",
    "\n",
    "### 相似度测量\n",
    "相似度或距离测量值通常是用来衡量两个实体之间的接近程度的,其中实体可以是任何文本形式,例如文档,句子甚至是短语.\n",
    "\n",
    "实体之间的相似程度由两个主要因素决定:\n",
    "- 实体的固有属性或特征\n",
    "- 测量公式及其特性\n",
    "\n",
    "### 无监督的机器学习算法\n",
    "无监督的机器学习算法属于ML算法系列,从数据的各种属性和特征中发现其中潜在的,隐藏的结构和模式.\n",
    "\n",
    "## 文本规范化"
   ]
  },
  {
   "cell_type": "code",
   "execution_count": 1,
   "metadata": {
    "collapsed": true
   },
   "outputs": [],
   "source": [
    "import nltk\n",
    "import re\n",
    "import matplotlib.pyplot as plt\n",
    "%matplotlib inline"
   ]
  },
  {
   "cell_type": "code",
   "execution_count": 4,
   "metadata": {
    "collapsed": true
   },
   "outputs": [],
   "source": [
    "#更新停用词列表\n",
    "stopword_list = nltk.corpus.stopwords.words('english')\n",
    "stopword_list = stopword_list + ['mr','mrs','come','go','get','tell','listen','one','two','three','four',\n",
    "                                'five','six','seven','eight','nine','zero','join','find','make','say','ask',\n",
    "                                'tell','see','try','back','also']"
   ]
  },
  {
   "cell_type": "code",
   "execution_count": 5,
   "metadata": {
    "collapsed": true
   },
   "outputs": [],
   "source": [
    "#使用正则表达式从文本主体中提取文本标识\n",
    "def keep_text_characters(text):\n",
    "    filtered_tokens = []\n",
    "    tokens = tokenize_text(text)\n",
    "    for token in tokens:\n",
    "        if re.search('[a-zA-Z]', token):\n",
    "            filtered_tokens.append(token)\n",
    "    filtered_text = ' '.join(filtered_tokens)\n",
    "    return filtered_text\n"
   ]
  },
  {
   "cell_type": "code",
   "execution_count": 6,
   "metadata": {
    "collapsed": true
   },
   "outputs": [],
   "source": [
    "def normalize_corpus(corpus, lemmatize=True,\n",
    "                    only_text_chars=False,\n",
    "                    tokenize=False):\n",
    "    normalized_corpus = []\n",
    "    for text in corpus:\n",
    "        text = html_parser.unescape(text) #html分析\n",
    "        text = expand_contractions(text, CONTRACTION_MAP) #扩展缩写词\n",
    "        if lemmatize:\n",
    "            text = lemmatize_text(text) #词形还原\n",
    "        else:\n",
    "            text = text.lower()\n",
    "        \n",
    "        # 删除停用词及特殊字符\n",
    "        text = remove_special_characters(text)\n",
    "        text = remove_stopwords(text)\n",
    "        \n",
    "        #提取文本标识\n",
    "        if only_text_chars:\n",
    "            text = keep_text_characters(text)\n",
    "            \n",
    "        if tokenize:\n",
    "            text = tokenize_text(text) #分词\n",
    "            normalized_corpus.append(text)\n",
    "        else:\n",
    "            normalized_corpus.append(text)\n",
    "    return normalized_corpus"
   ]
  },
  {
   "cell_type": "markdown",
   "metadata": {},
   "source": [
    "## 特征提取"
   ]
  },
  {
   "cell_type": "code",
   "execution_count": 7,
   "metadata": {
    "collapsed": true
   },
   "outputs": [],
   "source": [
    "from sklearn.feature_extraction.text import CountVectorizer, TfidfVectorizer\n",
    "\n",
    "def build_feature_matrix(documents, feature_type='frequency', ngram_range=(1,1), min_df=0.0, max_df=1.0):\n",
    "    '''\n",
    "    min_df:忽略文档频率低于该阈值的特征\n",
    "    max_df:忽略文档频率高于该阈值的特征\n",
    "    '''\n",
    "    feature_type = feature_type.lower().strip()\n",
    "    if feature_type == 'binary':\n",
    "        vectorizer = CountVectorizer(binary=True, min_df=min_df, max_df=max_df, ngram_range=ngram_range)\n",
    "    elif feature_type == 'frequency':\n",
    "        vectorizer = CountVectorizer(binary=False, min_df=min_df, max_df=max_df, ngram_range=ngram_range)\n",
    "    elif feature_type == 'tfidf':\n",
    "        vectorizer = TfidfVectorizer(min_df=min_df, max_df=max_df, ngram_range=ngram_range)\n",
    "    else:\n",
    "        raise Exception('Wrong feature type entered.Possible values: \"binary\",\"frequency\",\"tfidf\"')\n",
    "    feature_matrix = vectorizer.fit_transform(documents).astype(float)\n",
    "    \n",
    "    return vectorizer, feature_matrix"
   ]
  },
  {
   "cell_type": "markdown",
   "metadata": {},
   "source": [
    "## 文本相似度\n",
    "文本相似度分析的主要目的是分析和测量两个文本实体彼此距离的远近.\n",
    "\n",
    "文本相似度分析的目的大致分为以下两个方面:\n",
    "- 词汇相似度:通过句法,结构和内容研究文本文档的内容,并根据这些参数测量其相似度\n",
    "- 语义相似度:首先找出文档的语义,含义和上下文,然后找出它们彼此的距离.在这方面,依存语法和实体识别是很有用的工具\n",
    "\n",
    "接下来,将主要介绍以下两个领域的文本相似度:\n",
    "- 词项相似度: 在这里,将测量每个标识或单词之间的相似度\n",
    "- 文档相似度: 在这里,将测量整个文本文档之间的相似度\n",
    "\n",
    "## 词项相似度分析\n",
    "从分析单独的单词标识相似度入手.我们可以使用词项相似度分析中的部分技术来纠正拼写错误的词项.进行词项相似度分析,\n",
    "\n",
    "首先需要选择一种单词标识方法,然后指定一种距离度量.我们将使用如下单词表示方法:\n",
    "\n",
    "- 字符向量化\n",
    "- 字符袋(Bag of Character)向量化"
   ]
  },
  {
   "cell_type": "code",
   "execution_count": 8,
   "metadata": {
    "collapsed": true
   },
   "outputs": [],
   "source": [
    "import numpy as np\n",
    "\n",
    "def vectorize_terms(terms):\n",
    "    terms = [term.lower() for term in terms]\n",
    "    terms = [np.array(list(term)) for term in terms]\n",
    "    terms = [np.array([ord(char) for char in term]) for term in terms]\n",
    "    \n",
    "    return terms"
   ]
  },
  {
   "cell_type": "code",
   "execution_count": 9,
   "metadata": {
    "collapsed": true
   },
   "outputs": [],
   "source": [
    "from scipy.stats import itemfreq\n",
    "\n",
    "def boc_term_vectors(word_list):\n",
    "    word_list = [word.lower() for word in word_list]\n",
    "    unique_chars = np.unique(np.hstack([list(word) for word in word_list]))\n",
    "    word_list_term_counts = [{char: count for char, count in itemfreq(list(word))} for word in word_list]\n",
    "    boc_vectors = [np.array([int(word_term_counts.get(char, 0)) for char in unique_chars])\n",
    "                  for word_term_counts in word_list_term_counts]\n",
    "    \n",
    "    return list(unique_chars), boc_vectors"
   ]
  },
  {
   "cell_type": "code",
   "execution_count": 10,
   "metadata": {},
   "outputs": [
    {
     "name": "stdout",
     "output_type": "stream",
     "text": [
      "\n",
      "root:[ 98 101 108 105 101 118 101]\n",
      "term1:[ 98 101 108 101 105 118 101]\n",
      "term2:[ 98  97 114 103  97 105 110]\n",
      "\n"
     ]
    }
   ],
   "source": [
    "root = 'Believe'\n",
    "term1 = 'beleive'\n",
    "term2 = 'bargain'\n",
    "terms = [root, term1, term2]\n",
    "#Character vectorization\n",
    "vec_root, vec_term1, vec_term2 = vectorize_terms(terms)\n",
    "#show vector representations\n",
    "print '''\n",
    "root:{}\n",
    "term1:{}\n",
    "term2:{}\n",
    "'''.format(vec_root, vec_term1, vec_term2)"
   ]
  },
  {
   "cell_type": "code",
   "execution_count": 11,
   "metadata": {},
   "outputs": [
    {
     "name": "stdout",
     "output_type": "stream",
     "text": [
      "Features: ['a', 'b', 'e', 'g', 'i', 'l', 'n', 'r', 'v']\n",
      "\n",
      "root:[0 1 3 0 1 1 0 0 1]\n",
      "term1:[0 1 3 0 1 1 0 0 1]\n",
      "term2:[2 1 0 1 1 0 1 1 0]\n",
      "\n"
     ]
    }
   ],
   "source": [
    "# bag of characters vectorization\n",
    "features,(boc_root, boc_term1, boc_term2) = boc_term_vectors(terms)\n",
    "#show features and vector representations\n",
    "print 'Features:', features\n",
    "print '''\n",
    "root:{}\n",
    "term1:{}\n",
    "term2:{}\n",
    "'''.format(boc_root, boc_term1, boc_term2)"
   ]
  },
  {
   "cell_type": "markdown",
   "metadata": {},
   "source": [
    "本节将介绍以下五个度量:\n",
    "- 汉明距离(Hamming distance)\n",
    "- 曼哈顿距离(Manhattan distance)\n",
    "- 欧几里得距离(Euclidean distance)\n",
    "- 莱文斯坦编辑距离(Levenshtein edit distance)\n",
    "- 余弦距离(Cosine distance)和相似度\n",
    "\n",
    "首先,设置一些必要的变量以存储根词项,其他词项以及它们的向量化表示."
   ]
  },
  {
   "cell_type": "code",
   "execution_count": 12,
   "metadata": {
    "collapsed": true
   },
   "outputs": [],
   "source": [
    "root_term = root\n",
    "root_vector = vec_root\n",
    "root_boc_vector = boc_root\n",
    "\n",
    "term1 = [term1, term2]\n",
    "vector_terms = [vec_term1, vec_term2]\n",
    "boc_vector_terms = [boc_term1, boc_term2]"
   ]
  },
  {
   "cell_type": "markdown",
   "metadata": {},
   "source": [
    "### 汉明距离\n",
    "汉明距离是两个长度相等的字符串之间的测量距离.它的正式定义是两个长度相等的字符串之间互异字符或符号的位置的数量."
   ]
  },
  {
   "cell_type": "code",
   "execution_count": 13,
   "metadata": {
    "collapsed": true
   },
   "outputs": [],
   "source": [
    "def hamming_distance(u,v,norm=False):\n",
    "    if u.shape!=v.shape:\n",
    "        raise ValueError('The vectors must have equal lengths.')\n",
    "        \n",
    "    return (u!=v).sum() if not norm else (u!=v).mean()"
   ]
  },
  {
   "cell_type": "code",
   "execution_count": 14,
   "metadata": {},
   "outputs": [
    {
     "name": "stdout",
     "output_type": "stream",
     "text": [
      "Hamming distance between root: Believe and term: Believe is 2\n",
      "Hamming distance between root: Believe and term: beleive is 6\n"
     ]
    }
   ],
   "source": [
    "#compute Hamming distance\n",
    "for term,vector_term in zip(terms, vector_terms):\n",
    "    print 'Hamming distance between root: {} and term: {} is {}'.format(root_term, term, \n",
    "                                                                        hamming_distance(root_vector,vector_term,norm=False))\n",
    "    "
   ]
  },
  {
   "cell_type": "code",
   "execution_count": 15,
   "metadata": {},
   "outputs": [
    {
     "name": "stdout",
     "output_type": "stream",
     "text": [
      "Normalized Hamming distance between root: Believe and term:Believe is 0.29\n",
      "Normalized Hamming distance between root: Believe and term:beleive is 0.86\n"
     ]
    }
   ],
   "source": [
    "#compute normalized Hamming distance\n",
    "for term, vector_term in zip(terms, vector_terms):\n",
    "    print 'Normalized Hamming distance between root: {} and term:{} is {}'.format(root_term, term,\n",
    "                                                                           np.round(hamming_distance(root_vector,vector_term,norm=True),2))"
   ]
  },
  {
   "cell_type": "markdown",
   "metadata": {},
   "source": [
    "### 曼哈顿距离\n",
    "曼哈顿距离计算两个字符串的每个位置熵对应字符之间的差值,而不是计算不匹配字符的数量.**曼哈顿距离也称为城市街区距离,L1范数,计程车度量**.\n",
    "\n",
    "正式定义是基于严格水平或垂直路径的网格中两个点之间的距离,而非通常计算的欧几里得对角距离.\n",
    "\n",
    "**两个字符串的长度必须一样**"
   ]
  },
  {
   "cell_type": "code",
   "execution_count": 16,
   "metadata": {
    "collapsed": true
   },
   "outputs": [],
   "source": [
    "def manhattan_distance(u,v,norm=False):\n",
    "    if len(u) != len(v):\n",
    "        raise ValueError('The vectors must have equal lengths.')\n",
    "    return abs(u-v).sum() if not norm else abs(u-v).mean()"
   ]
  },
  {
   "cell_type": "code",
   "execution_count": 17,
   "metadata": {},
   "outputs": [
    {
     "name": "stdout",
     "output_type": "stream",
     "text": [
      "Manhattan distance between root: Believe and term: Believe is 8\n",
      "Manhattan distance between root: Believe and term: beleive is 38\n"
     ]
    }
   ],
   "source": [
    "#compute manhattan distance\n",
    "for term, vector_term in zip(terms, vector_terms):\n",
    "    print 'Manhattan distance between root: {} and term: {} is {}'.format(root_term, term,\n",
    "                                                                          manhattan_distance(root_vector,vector_term, norm=False))"
   ]
  },
  {
   "cell_type": "code",
   "execution_count": 18,
   "metadata": {},
   "outputs": [
    {
     "name": "stdout",
     "output_type": "stream",
     "text": [
      "Normalized Manhattan distance between root: Believe and term:Believe is 1.14\n",
      "Normalized Manhattan distance between root: Believe and term:beleive is 5.43\n"
     ]
    }
   ],
   "source": [
    "#compute normalized Manhattan distance\n",
    "for term, vector_term in zip(terms, vector_terms):\n",
    "    print 'Normalized Manhattan distance between root: {} and term:{} is {}'.format(root_term, term,\n",
    "                                                                                   round(manhattan_distance(root_vector,vector_term,norm=True),2))"
   ]
  },
  {
   "cell_type": "markdown",
   "metadata": {},
   "source": [
    "### 欧几里得距离\n",
    "欧几里得距离也称为欧几里得范数,L2范数或L2距离.正式定义是两点之间最短的直线距离."
   ]
  },
  {
   "cell_type": "code",
   "execution_count": 19,
   "metadata": {
    "collapsed": true
   },
   "outputs": [],
   "source": [
    "def euclidean_distance(u,v):\n",
    "    if len(u) != len(v):\n",
    "        raise ValueError('The vectors must have equal lengths.')\n",
    "    distance = np.sqrt(np.sum(np.square(u-v)))\n",
    "    return distance"
   ]
  },
  {
   "cell_type": "code",
   "execution_count": 20,
   "metadata": {},
   "outputs": [
    {
     "name": "stdout",
     "output_type": "stream",
     "text": [
      "Euclidean distance between root: Believe and term: Believe is 5.66\n",
      "Euclidean distance between root: Believe and term: beleive is 17.94\n"
     ]
    }
   ],
   "source": [
    "#compute Euclidean distance\n",
    "for term, vector_term in zip(terms, vector_terms):\n",
    "    print 'Euclidean distance between root: {} and term: {} is {}'.format(\n",
    "        root_term,\n",
    "        term,\n",
    "        round(euclidean_distance(root_vector, vector_term),2)\n",
    "    )"
   ]
  },
  {
   "cell_type": "markdown",
   "metadata": {},
   "source": [
    "### 莱文斯坦编辑距离\n",
    "莱文斯坦编辑距离通常也称为莱文斯坦距离,属于基于编辑距离的度量.两个词项之间的莱文斯坦编辑距离可以定义为通过添加,\n",
    "\n",
    "删除或替换一个词项转变成另一个词项所需的最少编辑次数.\n",
    "\n",
    "对于莱文斯坦编辑距离的几个有趣额边界条件:\n",
    "- 两个词项之间编辑距离的最小值是两个词项长度的差值\n",
    "- 两个词项之间编辑距离的最大值是两个词项的最长长度\n",
    "- 如果两个词项完全一样,它们的莱文斯坦编辑距离为0\n",
    "- 当且仅当两个词项拥有相同长度的时候,莱文斯坦编辑距离的上限等于汉明距离\n",
    "- 莱文斯坦编辑距离作为距离度量也满足三角不等式特性.\n",
    "\n",
    "在计算莱文斯坦编辑距离的时候,我们通过创建对两个词项构建成一个矩阵,然后使用动态规划来进行计算.\n",
    "\n",
    "这种算法也称为瓦格纳-费舍尔算法.关于此算法相关的信息,更多请参考\"字符串到字符串校正问题\"一文."
   ]
  },
  {
   "cell_type": "code",
   "execution_count": 21,
   "metadata": {
    "collapsed": true
   },
   "outputs": [],
   "source": [
    "import copy\n",
    "import pandas as pd\n",
    "\n",
    "def levenshtein_edit_distance(u,v):\n",
    "    #convert to lower case\n",
    "    u = u.lower()\n",
    "    v = v.lower()\n",
    "    \n",
    "    #base cases\n",
    "    try:\n",
    "        if u==v: \n",
    "            return 0,None\n",
    "        elif len(u) == 0: \n",
    "            return len(v),None\n",
    "        elif len(v) == 0: \n",
    "            return len(u),None\n",
    "    except e:\n",
    "        print e\n",
    "    \n",
    "    #initialize edit distance matrix\n",
    "    edit_matrix = []\n",
    "    \n",
    "    # initialize two distance matrics\n",
    "    du = [0]*(len(v)+1)\n",
    "    dv = [0]*(len(u)+1)\n",
    "    \n",
    "    #du: the previous row of edit distances\n",
    "    for i in range(len(du)):\n",
    "        du[i] = i\n",
    "    \n",
    "    #dv: the current row of edit distances\n",
    "    for i in range(len(u)):\n",
    "        dv[0] = i+1\n",
    "        #compute cost ad per algorithm\n",
    "        for j in range(len(v)):\n",
    "            cost = 0 if u[i] == v[j] else 1\n",
    "            dv[j+1] = min(dv[j]+1, du[j+1]+1, du[j]+cost) #删除,添加,替换,三种操作中编辑距离最小的\n",
    "        #assign dv to du for next iteration\n",
    "        for j in range(len(du)):\n",
    "            du[j] = dv[j]\n",
    "        #copy dv to the edit matrix\n",
    "        edit_matrix.append(copy.copy(dv))\n",
    "    \n",
    "    #compute the final edit distance and edit matrix\n",
    "    distance = dv[len(v)]\n",
    "    edit_matrix = np.array(edit_matrix)\n",
    "    edit_matrix = edit_matrix.T\n",
    "    edit_matrix = edit_matrix[1:,]\n",
    "    edit_matrix = pd.DataFrame(data=edit_matrix,\n",
    "                              index=list(v),\n",
    "                              columns=list(u))\n",
    "    return distance, edit_matrix"
   ]
  },
  {
   "cell_type": "code",
   "execution_count": 22,
   "metadata": {},
   "outputs": [
    {
     "name": "stdout",
     "output_type": "stream",
     "text": [
      "Computing distance between root: Believe and term: Believe\n",
      "Levenshtein edit disntance is 0\n",
      "The complete edit distance matrix is depicted below\n",
      "None\n",
      "------------------------------\n",
      "Computing distance between root: Believe and term: beleive\n",
      "Levenshtein edit disntance is 2\n",
      "The complete edit distance matrix is depicted below\n",
      "   b  e  l  i  e  v  e\n",
      "b  0  1  2  3  4  5  6\n",
      "e  1  0  1  2  3  4  5\n",
      "l  2  1  0  1  2  3  4\n",
      "e  3  2  1  1  1  2  3\n",
      "i  4  3  2  1  2  2  3\n",
      "v  5  4  3  2  2  2  3\n",
      "e  6  5  4  3  2  3  2\n",
      "------------------------------\n",
      "Computing distance between root: Believe and term: bargain\n",
      "Levenshtein edit disntance is 6\n",
      "The complete edit distance matrix is depicted below\n",
      "   b  e  l  i  e  v  e\n",
      "b  0  1  2  3  4  5  6\n",
      "a  1  1  2  3  4  5  6\n",
      "r  2  2  2  3  4  5  6\n",
      "g  3  3  3  3  4  5  6\n",
      "a  4  4  4  4  4  5  6\n",
      "i  5  5  5  4  5  5  6\n",
      "n  6  6  6  5  5  6  6\n",
      "------------------------------\n"
     ]
    }
   ],
   "source": [
    "for term in terms:\n",
    "    edit_d,edit_m = levenshtein_edit_distance(root_term, term)\n",
    "    print 'Computing distance between root: {} and term: {}'.format(root_term, term)\n",
    "    \n",
    "    print('Levenshtein edit disntance is {}'.format(edit_d))\n",
    "    print('The complete edit distance matrix is depicted below')\n",
    "    print edit_m\n",
    "    print '-'*30"
   ]
  },
  {
   "cell_type": "markdown",
   "metadata": {},
   "source": [
    "### 余弦距离和相似度\n",
    "余弦距离是一个可以从余弦相似度推导得出的度量,反之亦然."
   ]
  },
  {
   "cell_type": "code",
   "execution_count": 23,
   "metadata": {
    "collapsed": true
   },
   "outputs": [],
   "source": [
    "def cosine_distance(u,v):\n",
    "    distance = 1.0 - (np.dot(u,v)/(np.sqrt(sum(np.square(u))) * np.sqrt(sum(np.square(v)))))\n",
    "    return distance"
   ]
  },
  {
   "cell_type": "code",
   "execution_count": 24,
   "metadata": {},
   "outputs": [
    {
     "name": "stdout",
     "output_type": "stream",
     "text": [
      "Analyzing similarity between root: Believe and term: Believe\n",
      "Cosine distance is -0.0\n",
      "Cosine similarity is 1.0\n",
      "----------------------------------------\n",
      "Analyzing similarity between root: Believe and term: beleive\n",
      "Cosine distance is 0.82\n",
      "Cosine similarity is 0.18\n",
      "----------------------------------------\n"
     ]
    }
   ],
   "source": [
    "for term,boc_term in zip(terms, boc_vector_terms):\n",
    "    print 'Analyzing similarity between root: {} and term: {}'.format(root_term,term)\n",
    "    distance=round(cosine_distance(root_boc_vector, boc_term),2)\n",
    "    similarity = 1-distance\n",
    "    print('Cosine distance is {}'.format(distance))\n",
    "    print('Cosine similarity is {}'.format(similarity))\n",
    "    print '-'*40"
   ]
  },
  {
   "cell_type": "markdown",
   "metadata": {},
   "source": [
    "我们可以通过配合WordNet语义字典组合使用,即可以在用户键入拼写错误的单词时,通过测量单词之间的相似度来提供语义上和语法熵正确的单词,\n",
    "\n",
    "从而提供正确的拼写建议."
   ]
  },
  {
   "cell_type": "markdown",
   "metadata": {},
   "source": [
    "## 文档相似度分析\n",
    "本节将介绍以下度量:\n",
    "- 余弦相似度\n",
    "- 海灵格-巴塔恰亚距离\n",
    "- Okapi BM25排名"
   ]
  },
  {
   "cell_type": "code",
   "execution_count": 25,
   "metadata": {
    "collapsed": true
   },
   "outputs": [],
   "source": [
    "from normalization import normalize_corpus\n",
    "from utils import build_feature_matrix\n",
    "import numpy as np\n",
    "\n",
    "#load the toy corpus index\n",
    "toy_corpus = ['The sky is blue',\n",
    "'The sky is blue and beautiful',\n",
    "'Look at the bright blue sky!',\n",
    "'Python is a great Programming language',\n",
    "'Python and Java are popular Programming languages',\n",
    "'Among Programming languages, both Python and Java are the most used in Analytics',\n",
    "'The fox is quicker than the lazy dog',\n",
    "'The dog is smarter than the fox',\n",
    "'The dog, fox and cat are good friends']\n",
    "\n",
    "#load the docs for which we will be measuring similarities\n",
    "query_docs = ['The fox is definitely smarter than the dog',\n",
    "            'Java is a static typed programming language unlike Python',\n",
    "              'I love to relax under the beautiful blue sky!']"
   ]
  },
  {
   "cell_type": "code",
   "execution_count": 26,
   "metadata": {
    "collapsed": true
   },
   "outputs": [],
   "source": [
    "norm_corpus = normalize_corpus(toy_corpus, lemmatize=True)\n",
    "tfidf_vectorizer, tfidf_features = build_feature_matrix(norm_corpus,\n",
    "                                                       feature_type='tfidf',\n",
    "                                                       ngram_range=(1,1),\n",
    "                                                       min_df=0.0,\n",
    "                                                       max_df=1.0)\n",
    "#normalize and extract features from the query corpus\n",
    "norm_query_docs = normalize_corpus(query_docs, lemmatize=True)\n",
    "query_docs_tfidf = tfidf_vectorizer.transform(norm_query_docs)"
   ]
  },
  {
   "cell_type": "markdown",
   "metadata": {},
   "source": [
    "### 余弦相似度\n",
    "使用前面的词项余弦相似度来计算文档的余弦相似度得分,采用基于词袋模型的文档向量,并用TF-IDF数值代替词频."
   ]
  },
  {
   "cell_type": "code",
   "execution_count": 27,
   "metadata": {
    "collapsed": true
   },
   "outputs": [],
   "source": [
    "def compute_cosine_similarity(doc_features, corpus_features, top_n=3):\n",
    "    #get document vectors\n",
    "    doc_features = doc_features.toarray()[0]\n",
    "    corpus_features = corpus_features.toarray()\n",
    "    #compute similarities\n",
    "    similarity = np.dot(doc_features, corpus_features.T)\n",
    "    \n",
    "    #get docs with hightest similarity scores\n",
    "    top_docs = similarity.argsort()[::-1][:top_n]\n",
    "    top_docs_with_scores = [(index, round(similarity[index], 3)) for index in top_docs]\n",
    "    \n",
    "    return top_docs_with_scores"
   ]
  },
  {
   "cell_type": "code",
   "execution_count": 28,
   "metadata": {},
   "outputs": [
    {
     "name": "stdout",
     "output_type": "stream",
     "text": [
      "Document Similarity Analysis using Cosine Similarity\n",
      "----------------------------------------\n",
      "('Document', 1, ':', 'The fox is definitely smarter than the dog')\n",
      "('Top', 2, 'similar docs:')\n",
      "----------------------------------------\n",
      "Doc num: 8 Similarity Score: 1.0\n",
      " Doc: The dog is smarter than the fox\n",
      "----------------------------------------\n",
      "Doc num: 7 Similarity Score: 0.426\n",
      " Doc: The fox is quicker than the lazy dog\n",
      "----------------------------------------\n",
      "\n",
      "('Document', 2, ':', 'Java is a static typed programming language unlike Python')\n",
      "('Top', 2, 'similar docs:')\n",
      "----------------------------------------\n",
      "Doc num: 5 Similarity Score: 0.837\n",
      " Doc: Python and Java are popular Programming languages\n",
      "----------------------------------------\n",
      "Doc num: 6 Similarity Score: 0.661\n",
      " Doc: Among Programming languages, both Python and Java are the most used in Analytics\n",
      "----------------------------------------\n",
      "\n",
      "('Document', 3, ':', 'I love to relax under the beautiful blue sky!')\n",
      "('Top', 2, 'similar docs:')\n",
      "----------------------------------------\n",
      "Doc num: 2 Similarity Score: 1.0\n",
      " Doc: The sky is blue and beautiful\n",
      "----------------------------------------\n",
      "Doc num: 1 Similarity Score: 0.72\n",
      " Doc: The sky is blue\n",
      "----------------------------------------\n",
      "\n"
     ]
    }
   ],
   "source": [
    "#get Cosine similarity results for out example documents\n",
    "print 'Document Similarity Analysis using Cosine Similarity'\n",
    "print '-'*40\n",
    "for index,doc in enumerate(query_docs):\n",
    "    doc_tfidf = query_docs_tfidf[index]\n",
    "    top_similar_docs = compute_cosine_similarity(doc_tfidf, tfidf_features, top_n=2)\n",
    "    print('Document',index+1,':',doc)\n",
    "    print('Top',len(top_similar_docs), 'similar docs:')\n",
    "    print('-'*40)\n",
    "    for doc_index, sim_score in top_similar_docs:\n",
    "        print('Doc num: {} Similarity Score: {}\\n Doc: {}'.format(doc_index+1, sim_score, toy_corpus[doc_index]))\n",
    "        print('-'*40)\n",
    "    print"
   ]
  },
  {
   "cell_type": "markdown",
   "metadata": {},
   "source": [
    "### 海灵格-巴塔恰亚距离\n",
    "海灵格-巴塔恰亚距离(HB距离)也称为海灵格距离或巴塔恰亚距离.用于测量两个离散或连续概率之间的相似度.它是一个f散度,\n",
    "\n",
    "f散度在概率论中定义为函数$D_f(P||Q)$,用于测量两个函数P和Q概率分布之间的差异."
   ]
  },
  {
   "cell_type": "code",
   "execution_count": 29,
   "metadata": {
    "collapsed": true
   },
   "outputs": [],
   "source": [
    "def compute_hellinger_bhattacharya_distance(doc_features, corpus_features, top_n=3):\n",
    "    #get document vectors\n",
    "    doc_featuers = doc_features.toarray()[0]\n",
    "    corpus_features = corpus_features.toarray()\n",
    "\n",
    "    #compute hb distances\n",
    "    distance = np.hstack(np.sqrt(0.5*np.sum(np.square(np.sqrt(doc_features)-np.sqrt(corpus_features)),axis=1))).A1\n",
    "\n",
    "    #get docs with lowest distance scores,index\n",
    "    print top_n\n",
    "    top_docs = distance.argsort()[:top_n]\n",
    "    top_docs_with_score = [(index, round(distance[index],3)) for index in top_docs]\n",
    "    return top_docs_with_score"
   ]
  },
  {
   "cell_type": "code",
   "execution_count": 30,
   "metadata": {},
   "outputs": [
    {
     "name": "stdout",
     "output_type": "stream",
     "text": [
      "Document Similarity Analysis using Hellinger-Bhattacharya\n",
      "----------------------------------------\n",
      "2\n",
      "Document 1 : The fox is definitely smarter than the dog\n",
      "Top 2 similar docs:\n",
      "----------------------------------------\n",
      "Doc num: 8 Distance Score: 0.0\n",
      "Doc:The dog is smarter than the fox\n",
      "----------------------------------------\n",
      "Doc num: 7 Distance Score: 0.96\n",
      "Doc:The fox is quicker than the lazy dog\n",
      "----------------------------------------\n",
      "\n",
      "2\n",
      "Document 2 : Java is a static typed programming language unlike Python\n",
      "Top 2 similar docs:\n",
      "----------------------------------------\n",
      "Doc num: 5 Distance Score: 0.53\n",
      "Doc:Python and Java are popular Programming languages\n",
      "----------------------------------------\n",
      "Doc num: 4 Distance Score: 0.766\n",
      "Doc:Python is a great Programming language\n",
      "----------------------------------------\n",
      "\n",
      "2\n",
      "Document 3 : I love to relax under the beautiful blue sky!\n",
      "Top 2 similar docs:\n",
      "----------------------------------------\n",
      "Doc num: 2 Distance Score: 0.0\n",
      "Doc:The sky is blue and beautiful\n",
      "----------------------------------------\n",
      "Doc num: 1 Distance Score: 0.602\n",
      "Doc:The sky is blue\n",
      "----------------------------------------\n",
      "\n"
     ]
    }
   ],
   "source": [
    "#get Hellinger-Bhattacharya distance based similarities for out example documents\n",
    "print('Document Similarity Analysis using Hellinger-Bhattacharya')\n",
    "print '-'*40\n",
    "for index, doc in enumerate(query_docs):\n",
    "    doc_tfidf = query_docs_tfidf[index]\n",
    "    top_similar_docs = compute_hellinger_bhattacharya_distance(doc_tfidf, tfidf_features, top_n=2)\n",
    "    print 'Document', index+1,':',doc\n",
    "    print 'Top', len(top_similar_docs), 'similar docs:'\n",
    "    print '-'*40\n",
    "    for doc_index, sim_score in top_similar_docs:\n",
    "        print('Doc num: {} Distance Score: {}\\nDoc:{}'.format(doc_index+1, sim_score, toy_corpus[doc_index]))\n",
    "        print '-'*40\n",
    "    print"
   ]
  },
  {
   "cell_type": "markdown",
   "metadata": {},
   "source": [
    "从上面的输出可以看出,具有较低HB距离得分的文档与查询文档更为相似,输出文档结果与使用余弦相似度获得的输出文档非常相似.\n",
    "\n",
    "**在构建大型的相似度分析系统时,推荐使用在gensim.matutils模块**"
   ]
  },
  {
   "cell_type": "markdown",
   "metadata": {},
   "source": [
    "### Okapi BM25 排名\n",
    "Okapi BM25 的正式定义是采用一个基于词袋模型,根据用户输入检索相关文档的文档排名和检索函数.\n",
    "\n",
    "我们通过以下几个步骤来计算文档的BM25得分:\n",
    "- 建立一个函数以获得语料库中词项的逆文档频率值\n",
    "- 构建一个计算查询文档和语料库文档的BM25得分的函数\n",
    "- 为语料库文档和查询文档获取基于词袋的特征\n",
    "- 使用第一步中的函数计算语料库文档的平均长度和语料库文档中词项的IDF值\n",
    "- 使用第2步中的函数计算BM25得分,为相关文档排序并为每个查询文档获取前n个最相关的文档"
   ]
  },
  {
   "cell_type": "code",
   "execution_count": 31,
   "metadata": {
    "collapsed": true
   },
   "outputs": [],
   "source": [
    "import scipy.sparse as sp\n",
    "\n",
    "def compute_corpus_term_idfs(corpus_features, norm_corpus):\n",
    "    dfs = np.diff(sp.csc_matrix(corpus_features, copy=True).indptr)\n",
    "    dfs = 1+dfs # to smoothen idf later\n",
    "    total_docs = 1 + len(norm_corpus)\n",
    "    idfs = 1.0+np.log(float(total_docs) / dfs)\n",
    "    return idfs"
   ]
  },
  {
   "cell_type": "markdown",
   "metadata": {},
   "source": [
    "实现基于查询文件的,对语料库中所有文档的BM25得分进行计算的主要函数."
   ]
  },
  {
   "cell_type": "code",
   "execution_count": 32,
   "metadata": {
    "collapsed": true
   },
   "outputs": [],
   "source": [
    "def compute_bm25_similarity(doc_features, corpus_features, corpus_doc_lengths, avg_doc_length,\n",
    "                           term_idfs, k1=1.5, b=0.75, top_n=3):\n",
    "    '''\n",
    "    首先计算分子,然后计算分母,最后,将分子除以分母,获得所有语料库文档的BM25得分.\n",
    "    \n",
    "    最后按降序排列,并返回前n个具有最高BM25得分的相关文档.\n",
    "    '''\n",
    "    #get corpus bag of words features\n",
    "    corpus_features = corpus_features.toarray()\n",
    "    #convert query document features to binary features\n",
    "    #this is to keep a note of which terms exist per document\n",
    "    doc_features = doc_features.toarray()[0]\n",
    "    doc_features[doc_features>=1] = 1\n",
    "    \n",
    "    #compute the document idf scores for present terms\n",
    "    doc_idfs = doc_features * term_idfs\n",
    "    #compute numerator expression in BM25 equation\n",
    "    numerator_coeff = corpus_features * (k1+1)\n",
    "    numerator = np.multiply(doc_idfs, numerator_coeff)\n",
    "    #compute denominator expression in BM25 equation\n",
    "    denominator_coeff = k1*(1-b+(b*(corpus_doc_lengths/avg_doc_length)))\n",
    "    denominator_coeff = np.vstack(denominator_coeff)\n",
    "    \n",
    "    denominator = corpus_features + denominator_coeff\n",
    "    \n",
    "    #compute the BM25 score combining the above equations\n",
    "    bm25_scores = np.sum(np.divide(numerator, denominator), axis=1)\n",
    "    \n",
    "    #get top n relevant docs with highest BM25 score\n",
    "    top_docs = bm25_scores.argsort()[::-1][:top_n]\n",
    "    top_docs_with_score = [(index, round(bm25_scores[index], 3)) for index in top_docs]\n",
    "    \n",
    "    return top_docs_with_score\n",
    "    "
   ]
  },
  {
   "cell_type": "code",
   "execution_count": 33,
   "metadata": {},
   "outputs": [
    {
     "name": "stdout",
     "output_type": "stream",
     "text": [
      "Document Similarity Analysis sing BM25\n",
      "------------------------------------------------------------\n",
      "Document 1 : The fox is definitely smarter than the dog\n",
      "Top 2 similar docs:\n",
      "----------------------------------------\n",
      "Doc num: 8 BM25 Score: 7.334 \n",
      " Doc: The dog is smarter than the fox\n",
      "----------------------------------------\n",
      "Doc num: 7 BM25 Score: 3.88 \n",
      " Doc: The fox is quicker than the lazy dog\n",
      "----------------------------------------\n",
      "\n",
      "Document 2 : Java is a static typed programming language unlike Python\n",
      "Top 2 similar docs:\n",
      "----------------------------------------\n",
      "Doc num: 5 BM25 Score: 7.248 \n",
      " Doc: Python and Java are popular Programming languages\n",
      "----------------------------------------\n",
      "Doc num: 6 BM25 Score: 6.042 \n",
      " Doc: Among Programming languages, both Python and Java are the most used in Analytics\n",
      "----------------------------------------\n",
      "\n",
      "Document 3 : I love to relax under the beautiful blue sky!\n",
      "Top 2 similar docs:\n",
      "----------------------------------------\n",
      "Doc num: 2 BM25 Score: 7.334 \n",
      " Doc: The sky is blue and beautiful\n",
      "----------------------------------------\n",
      "Doc num: 1 BM25 Score: 4.984 \n",
      " Doc: The sky is blue\n",
      "----------------------------------------\n",
      "\n"
     ]
    }
   ],
   "source": [
    "#build bag of words based features first\n",
    "vectorizer, corpus_features  = build_feature_matrix(norm_corpus, feature_type='frequency')\n",
    "\n",
    "query_docs_features = vectorizer.transform(norm_query_docs)\n",
    "\n",
    "#get average document length of the corpus(avgdl)\n",
    "doc_lengths = [len(doc.split()) for doc in norm_corpus]\n",
    "avg_dl = np.average(doc_lengths)\n",
    "\n",
    "#Get the corpus term idfs\n",
    "corpus_term_idfs = compute_corpus_term_idfs(corpus_features, norm_corpus)\n",
    "\n",
    "#analyze document similarity using BM25 framework\n",
    "print 'Document Similarity Analysis sing BM25'\n",
    "print '-'*60\n",
    "for index, doc in enumerate(query_docs):\n",
    "    doc_features = query_docs_features[index]\n",
    "    top_similar_docs = compute_bm25_similarity(doc_features,\n",
    "                                              corpus_features,\n",
    "                                              doc_lengths,\n",
    "                                              avg_dl,\n",
    "                                              corpus_term_idfs,\n",
    "                                              k1=1.5,\n",
    "                                              b=0.75,\n",
    "                                              top_n=2)\n",
    "    print 'Document', index+1, ':', doc\n",
    "    print 'Top', len(top_similar_docs), 'similar docs:'\n",
    "    print '-'*40\n",
    "    for doc_index, sim_score in top_similar_docs:\n",
    "        print 'Doc num: {} BM25 Score: {} \\n Doc: {}'.format(doc_index+1, sim_score, toy_corpus[doc_index])\n",
    "        print '-'*40\n",
    "    print"
   ]
  },
  {
   "cell_type": "markdown",
   "metadata": {},
   "source": [
    "从上面的输出可以看出,BM25得分越高,文档越相关.该模块算法的核心仍然是基于前述过程的,所以应该能够取得不错的效果.\n",
    "\n",
    "**注意:**\n",
    "\n",
    "事实上,诸如solr或ES这样的信息搜索框架是建立在Lucene之上的,Lucene使用这类的排名算法从存储文档的索引中返回相关的文档,\n",
    "\n",
    "你也可以使用排名算法构建自己的搜索引擎.更多信息请查阅:www.elastic.co/blog/found-bm-vs-lucene-default-similarity\n",
    "\n",
    "该文章展示了BM25的表现远远由于Lucene默认的相似度排名方法."
   ]
  },
  {
   "cell_type": "markdown",
   "metadata": {},
   "source": [
    "## 文档聚类\n",
    "文档聚类或聚类分析是NLP和文本分析中的一个有趣的领域,它应用了无监督的ML概念和技术.\n",
    "\n",
    "几种流行的聚类算法简要描述如下:\n",
    "- 层次聚类模型: 这些聚类模型也称为**基于连接的聚类方法**.\n",
    "    它基于一个概念,即相似对象在向量空间中应更接近于相关对象,而不是无关对象,即它们距离无关对象更远.\n",
    "    聚类通过基于距离的连接对象形成,可以**采用树形图来可视化**.\n",
    "    这些模型的输出是完整的,层次结构详尽的聚类.该类模型主要分为凝聚式和分裂式聚类模型.\n",
    "    \n",
    "- 基于质心的聚类模型:这些模型以这样的方式构建聚类,即每个聚类都有一个中心的,有代表性的成员,\n",
    "    它能够代表整个聚类,并具有将特定聚类和其他聚类区分开来的特征.\n",
    "    基于质心的聚类模型包含多种算法,如k-means,k-medoids算法等,此类算法中我们需要提前设置聚类k的数量,\n",
    "    并且最小化距离度量(如每个数据点到质心的距离的平方).这些模型的缺点是你需要提前指定k值,而这可能会导致局部极小值,\n",
    "    使你无法获得数据的真实聚类表示.\n",
    "    \n",
    "- 基于分布的聚类模型:这类模型利用概率分布的概念来聚类数据点.它的理念是具有相似分布的对象可以聚类成相同的组或聚类.\n",
    "    高斯混合模型使用诸如EM算法来构建这些聚类.特征,属性相关性和依存关系也可以使用这些模型来捕获,但是这类模型容易过拟合.\n",
    "    \n",
    "- 基于密度的聚类模型:这类聚类模型使用聚集在较密集区域的数据点生成聚类,与较密集区域的数据点相比,其他数据点可能随机地出现\n",
    "    在向量空间的稀疏区域.将这些稀疏区域视为噪声,并作为边界来隔离聚类.该领域的两个流行算法是DB-SCAN算法和OPTICS算法.\n",
    "    \n",
    "我们将主要介绍三种不同的聚类算法:\n",
    "- k-means聚类\n",
    "- 近邻传播(AP)聚类\n",
    "- 沃德凝聚层次聚类"
   ]
  },
  {
   "cell_type": "markdown",
   "metadata": {},
   "source": [
    "## 最佳影片聚类分析\n",
    "相关资料请查阅:https://github.com/brandomr/document_cluster  另外,还可以进一步阅读brandomr的blog:http://brandonrose.org"
   ]
  },
  {
   "cell_type": "code",
   "execution_count": 34,
   "metadata": {},
   "outputs": [
    {
     "name": "stdout",
     "output_type": "stream",
     "text": [
      "                      Title                                           Synopsis\n",
      "0             The Godfather  In late summer 1945, guests are gathered for t...\n",
      "1  The Shawshank Redemption  In 1947, Andy Dufresne (Tim Robbins), a banker...\n",
      "2          Schindler's List  The relocation of Polish Jews from surrounding...\n",
      "3               Raging Bull  The film opens in 1964, where an older and fat...\n",
      "4                Casablanca  In the early years of World War II, December 1...\n",
      "\n",
      "Movie: The Godfather\n",
      "----------------------------------------\n",
      "Movie Synopsis: In late summer 1945, guests are gathered for the wedding reception of Don Vito Corleone's daughter C\n"
     ]
    }
   ],
   "source": [
    "import pandas as pd\n",
    "import numpy as np\n",
    "\n",
    "#load movie data\n",
    "movie_data = pd.read_csv('movie_data.csv')\n",
    "\n",
    "#view movie data\n",
    "print movie_data.head()\n",
    "print\n",
    "#print sample movie and its synopsis\n",
    "print 'Movie:', movie_data.Title[0]\n",
    "print '-'*40\n",
    "print 'Movie Synopsis:', movie_data.Synopsis[0][:100]"
   ]
  },
  {
   "cell_type": "code",
   "execution_count": 35,
   "metadata": {},
   "outputs": [
    {
     "name": "stdout",
     "output_type": "stream",
     "text": [
      "(100, 308)\n",
      "[u'able', u'accept', u'across', u'act', u'agree', u'alive', u'allow', u'alone', u'along', u'already', u'although', u'always', u'another', u'anything', u'apartment', u'appear', u'approach', u'arm', u'army', u'around']\n"
     ]
    }
   ],
   "source": [
    "from normalization import normalize_corpus\n",
    "from utils import build_feature_matrix\n",
    "\n",
    "movie_synopsis = movie_data.Synopsis\n",
    "movie_titles = movie_data.Title\n",
    "\n",
    "#normalize corpus\n",
    "norm_movie_synopses = normalize_corpus(movie_synopsis,\n",
    "                                      lemmatize=True,\n",
    "                                      only_text_chars=True)\n",
    "\n",
    "#extract tf-idf features\n",
    "vectorizer, feature_matrix = build_feature_matrix(norm_movie_synopses,\n",
    "                                                 feature_type='tfidf',\n",
    "                                                 min_df=0.24, max_df=0.85,\n",
    "                                                 ngram_range=(1,2))\n",
    "\n",
    "#view number of features\n",
    "print feature_matrix.shape\n",
    "\n",
    "#get feature names\n",
    "feature_names = vectorizer.get_feature_names()\n",
    "#print sample features\n",
    "print feature_names[:20]"
   ]
  },
  {
   "cell_type": "markdown",
   "metadata": {},
   "source": [
    "### k-means聚类\n",
    "k-means聚类算法是一种基于质心的聚类模型,它尝试将数据聚类成等方差的组或聚类.该算法尝试将标准或度量----惯量(inertia)最小化,\n",
    "\n",
    "惯量也称为聚类内平方和.**这种算法的一个主要缺点是,和其他所有基于质心的聚类模型一样,它需要事前指定聚类k的数量.**\n",
    "\n",
    "收敛和局部最小值的发生高度依赖于步骤1中最开始质心的初始化.\n",
    "\n",
    "一种方式是进行多次迭代,并进行多次随机初始化,然后取平均值.\n",
    "\n",
    "另一种方法是使用sklearn中的kmean++方案,它在初始化质心时将质心彼此远离."
   ]
  },
  {
   "cell_type": "code",
   "execution_count": 36,
   "metadata": {
    "collapsed": true
   },
   "outputs": [],
   "source": [
    "from sklearn.cluster import KMeans\n",
    "\n",
    "#define the k-means clustering function\n",
    "def k_means(feature_matrix, num_clusters=5):\n",
    "    km = KMeans(n_clusters=num_clusters, max_iter=10000)\n",
    "    km.fit(feature_matrix)\n",
    "    clusters = km.labels_\n",
    "    return km, clusters\n",
    "\n",
    "#set k=5, lets say we want 5 clusters from the 100 movies\n",
    "num_clusters = 5\n",
    "\n",
    "#get clusters and assigned the cluster labels to the movies\n",
    "km_obj, clusters = k_means(feature_matrix = feature_matrix,num_clusters=num_clusters)\n",
    "movie_data['Cluster'] = clusters"
   ]
  },
  {
   "cell_type": "code",
   "execution_count": 37,
   "metadata": {},
   "outputs": [
    {
     "name": "stdout",
     "output_type": "stream",
     "text": [
      "[(0, 40), (1, 29), (2, 23), (3, 5), (4, 3)]\n"
     ]
    }
   ],
   "source": [
    "from collections import Counter\n",
    "#get the total number of movies per cluster\n",
    "c = Counter(clusters)\n",
    "print c.items()"
   ]
  },
  {
   "cell_type": "code",
   "execution_count": 38,
   "metadata": {
    "collapsed": true
   },
   "outputs": [],
   "source": [
    "#从聚类中提取重要信息\n",
    "def get_cluster_data(clustering_obj, movie_data, feature_names,num_clusters,topn_features=10):\n",
    "    cluster_details = {}\n",
    "    #get cluster centroids\n",
    "    ordered_centroids = clustering_obj.cluster_centers_.argsort()[:, ::-1]\n",
    "    #get key features for each cluster\n",
    "    #get movies belonging to each cluster\n",
    "    for cluster_num in range(num_clusters):\n",
    "        cluster_details[cluster_num] = {}\n",
    "        cluster_details[cluster_num]['cluster_num'] = cluster_num\n",
    "        key_features = [feature_names[index] for index in ordered_centroids[cluster_num, :topn_features]]\n",
    "        cluster_details[cluster_num]['key_features'] = key_features\n",
    "        \n",
    "        movies = movie_data[movie_data['Cluster']==cluster_num]['Title'].values.tolist()\n",
    "        cluster_details[cluster_num]['movies'] = movies\n",
    "    return cluster_details"
   ]
  },
  {
   "cell_type": "code",
   "execution_count": 39,
   "metadata": {
    "collapsed": true
   },
   "outputs": [],
   "source": [
    "def print_cluster_data(cluster_data):\n",
    "    #print cluster details\n",
    "    for cluster_num, cluster_details in cluster_data.items():\n",
    "        print 'Cluster {} details:'.format(cluster_num)\n",
    "        print '-'*20\n",
    "        print 'Key features:', cluster_details['key_features']\n",
    "        print 'Movies in this cluster:'\n",
    "        print ', '.join(cluster_details['movies'])\n",
    "        print '-'*40"
   ]
  },
  {
   "cell_type": "markdown",
   "metadata": {},
   "source": [
    "#### 聚类可视化\n",
    "如主成分分析(PCA)或多维缩放(MDS)可以减少维度.\n",
    "\n",
    "MDS是一种减少非线性我读的方法,可以在低纬度系统中更好的显现结果.它的核心思想是使用一个距离矩阵,以便捕获各种数据点之间的距离.\n",
    "\n",
    "MDS的sklearn实现有两类算法:度量和非度量算法.基于余弦相似度的距离度量来构建各种电影之间的输入相似度矩阵.\n",
    "\n",
    "MDS可以定义为:假设S是在特征矩阵上使用余弦相似度获得各种数据点之间的相似度矩阵."
   ]
  },
  {
   "cell_type": "code",
   "execution_count": 40,
   "metadata": {
    "collapsed": true
   },
   "outputs": [],
   "source": [
    "from sklearn.manifold import MDS\n",
    "from sklearn.metrics.pairwise import cosine_similarity\n",
    "import random\n",
    "from matplotlib.font_manager import FontProperties\n",
    "\n",
    "def plot_clusters(num_clusters, feature_matrix, cluster_data, movie_data,plot_size=(16,8)):\n",
    "    #generate random color for clusters\n",
    "    def generate_random_color():\n",
    "        color = '#%06x' % random.randint(0, 0xFFFFFF)\n",
    "        return color\n",
    "    \n",
    "    #define markers for clusters\n",
    "    markers = ['o','v','^','<','>','8','s','p','*','h','H','D','d']\n",
    "\n",
    "    #build cosine distance matrix\n",
    "    cosine_distance = 1-cosine_similarity(feature_matrix)\n",
    "    #dimensionality reduction using MDS\n",
    "    mds = MDS(n_components=2, dissimilarity='precomputed',random_state=1)\n",
    "    #get coordinates of clusters in new low-dimensional space\n",
    "    plot_positions = mds.fit_transform(cosine_distance)\n",
    "    x_pos, y_pos = plot_positions[:, 0], plot_positions[:,1]\n",
    "    #build cluster plotting data\n",
    "\n",
    "    cluster_color_map = {}\n",
    "    cluster_name_map = {}\n",
    "    for cluster_num, cluster_details in cluster_data.items():\n",
    "        #assign cluster features to unique label\n",
    "        cluster_color_map[cluster_num] = generate_random_color()\n",
    "        cluster_name_map[cluster_num] = ', '.join(cluster_details['key_features'][:5]).strip()\n",
    "    \n",
    "    #map each unique cluster label with its coordinates and movies\n",
    "    cluster_plot_frame = pd.DataFrame({'x': x_pos,\n",
    "                                      'y':y_pos,\n",
    "                                      'label':movie_data['Cluster'].values.tolist(),\n",
    "                                      'title':movie_data['Title'].values.tolist()})\n",
    "    grouped_plot_frame = cluster_plot_frame.groupby('label')\n",
    "\n",
    "    #set plot figure size and axes\n",
    "    fig, ax = plt.subplots(figsize=plot_size)\n",
    "    ax.margins(0.05)\n",
    "    #plot each cluster using co-ordinates and movie titles\n",
    "\n",
    "\n",
    "    for cluster_num, cluster_frame in grouped_plot_frame:\n",
    "         marker = markers[cluster_num] if cluster_num < len(markers) else np.random.choice(markers, size=1)[0]\n",
    "         ax.plot(cluster_frame['x'], cluster_frame['y'], marker=marker, linestyle='', ms=12,\n",
    "                 label=cluster_name_map[cluster_num], \n",
    "                 color=cluster_color_map[cluster_num], mec='none')\n",
    "         ax.set_aspect('auto')\n",
    "         ax.tick_params(axis= 'x', which='both', bottom='off', top='off', abelbottom='off')\n",
    "         ax.tick_params(axis= 'y', which='both', left='off', top='off', labelleft='off')\n",
    "            \n",
    "    fontP = FontProperties()\n",
    "    fontP.set_size('small')\n",
    "    ax.legend(loc='upper center', bbox_to_anchor = (0.5, -0.01),fancybox=True,\n",
    "             shadow=True, ncol=5, numpoints=1, prop=fontP)\n",
    "    #add labels as the film titles\n",
    "    for index in range(len(cluster_plot_frame)):\n",
    "        ax.text(cluster_plot_frame.ix[index]['x'],\n",
    "               cluster_plot_frame.ix[index]['y'],\n",
    "               cluster_plot_frame.ix[index]['title'], size=8)\n",
    "    \n",
    "    # show the plot\n",
    "    plt.show()"
   ]
  },
  {
   "cell_type": "markdown",
   "metadata": {},
   "source": [
    "首先使用文档之间的余弦相似度建立相似度矩阵,获得余弦距离\n",
    "\n",
    "然后使用MDS将高维特征空间转换为二维\n",
    "\n",
    "最后使用matplotlib绘制聚类结果."
   ]
  },
  {
   "cell_type": "code",
   "execution_count": 41,
   "metadata": {},
   "outputs": [
    {
     "name": "stdout",
     "output_type": "stream",
     "text": [
      "Cluster 0 details:\n",
      "--------------------\n",
      "Key features: [u'family', u'father', u'love', u'life', u'marry']\n",
      "Movies in this cluster:\n",
      "The Godfather, Schindler's List, Raging Bull, Gone with the Wind, Citizen Kane, Titanic, The Godfather: Part II, On the Waterfront, Forrest Gump, The Sound of Music, 12 Angry Men, Amadeus, Unforgiven, A Streetcar Named Desire, The Philadelphia Story, An American in Paris, The Best Years of Our Lives, My Fair Lady, Doctor Zhivago, Braveheart, The Treasure of the Sierra Madre, The Apartment, High Noon, The Pianist, Goodfellas, City Lights, The King's Speech, A Place in the Sun, Mr. Smith Goes to Washington, Rain Man, Annie Hall, Out of Africa, Good Will Hunting, Terms of Endearment, Tootsie, Giant, The Grapes of Wrath, Network, Wuthering Heights, Yankee Doodle Dandy\n",
      "----------------------------------------\n",
      "Cluster 1 details:\n",
      "--------------------\n",
      "Key features: [u'car', u'police', u'room', u'house', u'look']\n",
      "Movies in this cluster:\n",
      "The Shawshank Redemption, One Flew Over the Cuckoo's Nest, Psycho, Sunset Blvd., Vertigo, West Side Story, E.T. the Extra-Terrestrial, 2001: A Space Odyssey, The Silence of the Lambs, Singin' in the Rain, It's a Wonderful Life, Some Like It Hot, Rocky, To Kill a Mockingbird, The French Connection, Fargo, Close Encounters of the Third Kind, Nashville, The Graduate, American Graffiti, Pulp Fiction, The Maltese Falcon, A Clockwork Orange, Taxi Driver, Double Indemnity, Rebel Without a Cause, Rear Window, The Third Man, North by Northwest\n",
      "----------------------------------------\n",
      "Cluster 2 details:\n",
      "--------------------\n",
      "Key features: [u'soldier', u'kill', u'order', u'officer', u'men']\n",
      "Movies in this cluster:\n",
      "Casablanca, Lawrence of Arabia, Star Wars, The Bridge on the River Kwai, Dr. Strangelove or: How I Learned to Stop Worrying and Love the Bomb, Apocalypse Now, Gandhi, The Lord of the Rings: The Return of the King, Gladiator, From Here to Eternity, Saving Private Ryan, Raiders of the Lost Ark, Patton, The Good, the Bad and the Ugly, Butch Cassidy and the Sundance Kid, Platoon, Dances with Wolves, The Deer Hunter, All Quiet on the Western Front, Shane, The Green Mile, Stagecoach, Mutiny on the Bounty\n",
      "----------------------------------------\n",
      "Cluster 3 details:\n",
      "--------------------\n",
      "Key features: [u'water', u'father', u'cross', u'name', u'daughter']\n",
      "Movies in this cluster:\n",
      "Chinatown, Jaws, The Exorcist, It Happened One Night, The African Queen\n",
      "----------------------------------------\n",
      "Cluster 4 details:\n",
      "--------------------\n",
      "Key features: [u'city', u'home', u'sister', u'friend', u'man']\n",
      "Movies in this cluster:\n",
      "The Wizard of Oz, Ben-Hur, Midnight Cowboy\n",
      "----------------------------------------\n"
     ]
    }
   ],
   "source": [
    "#分析k-means算法的聚类结果\n",
    "#get clustering analysis data\n",
    "cluster_data = get_cluster_data(clustering_obj=km_obj, movie_data=movie_data, feature_names=feature_names,\n",
    "                               num_clusters=num_clusters,topn_features=5)\n",
    "\n",
    "#print clustering analysis results\n",
    "print_cluster_data(cluster_data)"
   ]
  },
  {
   "cell_type": "code",
   "execution_count": 42,
   "metadata": {
    "collapsed": true
   },
   "outputs": [],
   "source": [
    "def plot_clusters(num_clusters, feature_matrix,\n",
    "                  cluster_data, movie_data,\n",
    "                  plot_size=(16,8)):\n",
    "    # generate random color for clusters                  \n",
    "    def generate_random_color():\n",
    "        color = '#%06x' % random.randint(0, 0xFFFFFF)\n",
    "        return color\n",
    "    # define markers for clusters    \n",
    "    markers = ['o', 'v', '^', '<', '>', '8', 's', 'p', '*', 'h', 'H', 'D', 'd']\n",
    "    # build cosine distance matrix\n",
    "    cosine_distance = 1 - cosine_similarity(feature_matrix) \n",
    "    # dimensionality reduction using MDS\n",
    "    mds = MDS(n_components=2, dissimilarity=\"precomputed\", \n",
    "              random_state=1)\n",
    "    # get coordinates of clusters in new low-dimensional space\n",
    "    plot_positions = mds.fit_transform(cosine_distance)  \n",
    "    x_pos, y_pos = plot_positions[:, 0], plot_positions[:, 1]\n",
    "    # build cluster plotting data\n",
    "    cluster_color_map = {}\n",
    "    cluster_name_map = {}\n",
    "    for cluster_num, cluster_details in cluster_data.items():\n",
    "        # assign cluster features to unique label\n",
    "        cluster_color_map[cluster_num] = generate_random_color()\n",
    "        cluster_name_map[cluster_num] = ', '.join(cluster_details['key_features'][:5]).strip()\n",
    "    # map each unique cluster label with its coordinates and movies\n",
    "    cluster_plot_frame = pd.DataFrame({'x': x_pos,\n",
    "                                       'y': y_pos,\n",
    "                                       'label': movie_data['Cluster'].values.tolist(),\n",
    "                                       'title': movie_data['Title'].values.tolist()\n",
    "                                        })\n",
    "    grouped_plot_frame = cluster_plot_frame.groupby('label')\n",
    "    # set plot figure size and axes\n",
    "    fig, ax = plt.subplots(figsize=plot_size) \n",
    "    ax.margins(0.05)\n",
    "    # plot each cluster using co-ordinates and movie titles\n",
    "    for cluster_num, cluster_frame in grouped_plot_frame:\n",
    "         marker = markers[cluster_num] if cluster_num < len(markers) \\\n",
    "                  else np.random.choice(markers, size=1)[0]\n",
    "         ax.plot(cluster_frame['x'], cluster_frame['y'], \n",
    "                 marker=marker, linestyle='', ms=12,\n",
    "                 label=cluster_name_map[cluster_num], \n",
    "                 color=cluster_color_map[cluster_num], mec='none')\n",
    "         ax.set_aspect('auto')\n",
    "         ax.tick_params(axis= 'x', which='both', bottom='off', top='off',        \n",
    "                        labelbottom='off')\n",
    "         ax.tick_params(axis= 'y', which='both', left='off', top='off',         \n",
    "                        labelleft='off')\n",
    "    fontP = FontProperties()\n",
    "    fontP.set_size('small')    \n",
    "    ax.legend(loc='upper center', bbox_to_anchor=(0.5, -0.01), fancybox=True, \n",
    "              shadow=True, ncol=5, numpoints=1, prop=fontP) \n",
    "    #add labels as the film titles\n",
    "    for index in range(len(cluster_plot_frame)):\n",
    "        ax.text(cluster_plot_frame.ix[index]['x'], \n",
    "                cluster_plot_frame.ix[index]['y'], \n",
    "                cluster_plot_frame.ix[index]['title'], size=8)  \n",
    "    # show the plot           \n",
    "    plt.show() \n"
   ]
  },
  {
   "cell_type": "code",
   "execution_count": 43,
   "metadata": {},
   "outputs": [
    {
     "name": "stderr",
     "output_type": "stream",
     "text": [
      "/home/parallels/anaconda2/lib/python2.7/site-packages/ipykernel_launcher.py:53: DeprecationWarning: \n",
      ".ix is deprecated. Please use\n",
      ".loc for label based indexing or\n",
      ".iloc for positional indexing\n",
      "\n",
      "See the documentation here:\n",
      "http://pandas.pydata.org/pandas-docs/stable/indexing.html#deprecate_ix\n"
     ]
    },
    {
     "data": {
      "image/png": "[encoded data removed]",
      "text/plain": [
       "<matplotlib.figure.Figure at 0x7f89ef222850>"
      ]
     },
     "metadata": {},
     "output_type": "display_data"
    }
   ],
   "source": [
    "#visualize the clusters\n",
    "plot_clusters(num_clusters=num_clusters,feature_matrix=feature_matrix,cluster_data=cluster_data,movie_data=movie_data,\n",
    "              plot_size=(16,8))"
   ]
  },
  {
   "cell_type": "markdown",
   "metadata": {
    "collapsed": true
   },
   "source": [
    "### 近邻传播聚类\n",
    "近邻传播聚类基于数据的固有属性来构建聚类,无需对聚类数量进行任何预先假设.\n",
    "\n",
    "近邻传播算法基于待聚类各数据点中\"消息传递\"的概念,并且不需要关于聚类数量的预先假设.\n",
    "\n",
    "缺点是计算量大."
   ]
  },
  {
   "cell_type": "code",
   "execution_count": 44,
   "metadata": {
    "collapsed": true
   },
   "outputs": [],
   "source": [
    "from sklearn.cluster import AffinityPropagation\n",
    "\n",
    "def affinity_propagation(feature_matrix):\n",
    "    sim = feature_matrix*feature_matrix.T\n",
    "    sim = sim.todense()\n",
    "    ap = AffinityPropagation()\n",
    "    ap.fit(sim)\n",
    "    clusters = ap.labels_\n",
    "    return ap, clusters"
   ]
  },
  {
   "cell_type": "code",
   "execution_count": 47,
   "metadata": {},
   "outputs": [
    {
     "name": "stdout",
     "output_type": "stream",
     "text": [
      "[(0, 5), (1, 6), (2, 12), (3, 7), (4, 2), (5, 5), (6, 9), (7, 6), (8, 4), (9, 10), (10, 3), (11, 4), (12, 5), (13, 7), (14, 4), (15, 3), (16, 8)]\n"
     ]
    }
   ],
   "source": [
    "#get clusters using affinity propagation\n",
    "ap_obj, clusters = affinity_propagation(feature_matrix=feature_matrix)\n",
    "movie_data['Cluster'] = clusters\n",
    "\n",
    "#get the total number of movies per cluster\n",
    "c = Counter(clusters)\n",
    "print c.items()"
   ]
  },
  {
   "cell_type": "code",
   "execution_count": 48,
   "metadata": {},
   "outputs": [
    {
     "name": "stdout",
     "output_type": "stream",
     "text": [
      "Total Clusters: 17\n"
     ]
    }
   ],
   "source": [
    "#get total clusters\n",
    "total_clusters = len(c)\n",
    "print 'Total Clusters:', total_clusters"
   ]
  },
  {
   "cell_type": "code",
   "execution_count": 50,
   "metadata": {},
   "outputs": [
    {
     "name": "stdout",
     "output_type": "stream",
     "text": [
      "Cluster 0 details:\n",
      "--------------------\n",
      "Key features: [u'able', u'always', u'cover', u'end', u'early']\n",
      "Movies in this cluster:\n",
      "The Godfather, The Godfather: Part II, Doctor Zhivago, The Pianist, Goodfellas\n",
      "----------------------------------------\n",
      "Cluster 1 details:\n",
      "--------------------\n",
      "Key features: [u'alive', u'accept', u'around', u'agree', u'beat']\n",
      "Movies in this cluster:\n",
      "Casablanca, One Flew Over the Cuckoo's Nest, Titanic, 2001: A Space Odyssey, The Silence of the Lambs, Good Will Hunting\n",
      "----------------------------------------\n",
      "Cluster 2 details:\n",
      "--------------------\n",
      "Key features: [u'apartment', u'final', u'finally', u'fall', u'due']\n",
      "Movies in this cluster:\n",
      "The Shawshank Redemption, Vertigo, West Side Story, Rocky, Tootsie, Nashville, The Graduate, The Maltese Falcon, A Clockwork Orange, Taxi Driver, Rear Window, The Third Man\n",
      "----------------------------------------\n",
      "Cluster 3 details:\n",
      "--------------------\n",
      "Key features: [u'arrest', u'final', u'evening', u'fall', u'finally']\n",
      "Movies in this cluster:\n",
      "The Wizard of Oz, Psycho, E.T. the Extra-Terrestrial, My Fair Lady, Ben-Hur, The Exorcist, Close Encounters of the Third Kind\n",
      "----------------------------------------\n",
      "Cluster 4 details:\n",
      "--------------------\n",
      "Key features: [u'become', u'city', u'army', u'final', u'die']\n",
      "Movies in this cluster:\n",
      "12 Angry Men, Mr. Smith Goes to Washington\n",
      "----------------------------------------\n",
      "Cluster 5 details:\n",
      "--------------------\n",
      "Key features: [u'behind', u'city', u'always', u'feel', u'demand']\n",
      "Movies in this cluster:\n",
      "Amadeus, Gladiator, Braveheart, A Place in the Sun, Double Indemnity\n",
      "----------------------------------------\n",
      "Cluster 6 details:\n",
      "--------------------\n",
      "Key features: [u'body', u'allow', u'although', u'city', u'break']\n",
      "Movies in this cluster:\n",
      "Schindler's List, Gone with the Wind, Lawrence of Arabia, Star Wars, The Lord of the Rings: The Return of the King, Raiders of the Lost Ark, The Best Years of Our Lives, The Deer Hunter, Stagecoach\n",
      "----------------------------------------\n",
      "Cluster 7 details:\n",
      "--------------------\n",
      "Key features: [u'brother', u'car', u'bring', u'close', u'although']\n",
      "Movies in this cluster:\n",
      "Gandhi, Unforgiven, To Kill a Mockingbird, Butch Cassidy and the Sundance Kid, High Noon, Shane\n",
      "----------------------------------------\n",
      "Cluster 8 details:\n",
      "--------------------\n",
      "Key features: [u'child', u'attempt', u'everyone', u'face', u'fall']\n",
      "Movies in this cluster:\n",
      "Chinatown, Jaws, The African Queen, Mutiny on the Bounty\n",
      "----------------------------------------\n",
      "Cluster 9 details:\n",
      "--------------------\n",
      "Key features: [u'continue', u'bring', u'daughter', u'break', u'believe']\n",
      "Movies in this cluster:\n",
      "The Bridge on the River Kwai, Dr. Strangelove or: How I Learned to Stop Worrying and Love the Bomb, Apocalypse Now, From Here to Eternity, Saving Private Ryan, Patton, The Good, the Bad and the Ugly, Platoon, Dances with Wolves, All Quiet on the Western Front\n",
      "----------------------------------------\n",
      "Cluster 10 details:\n",
      "--------------------\n",
      "Key features: [u'despite', u'drop', u'family', u'confront', u'drive']\n",
      "Movies in this cluster:\n",
      "The Treasure of the Sierra Madre, City Lights, Midnight Cowboy\n",
      "----------------------------------------\n",
      "Cluster 11 details:\n",
      "--------------------\n",
      "Key features: [u'discover', u'always', u'fight', u'city', u'act']\n",
      "Movies in this cluster:\n",
      "Raging Bull, It Happened One Night, Rain Man, Rebel Without a Cause\n",
      "----------------------------------------\n",
      "Cluster 12 details:\n",
      "--------------------\n",
      "Key features: [u'discuss', u'alone', u'drop', u'business', u'consider']\n",
      "Movies in this cluster:\n",
      "Singin' in the Rain, An American in Paris, The Apartment, Annie Hall, Network\n",
      "----------------------------------------\n",
      "Cluster 13 details:\n",
      "--------------------\n",
      "Key features: [u'due', u'finally', u'day', u'ever', u'eventually']\n",
      "Movies in this cluster:\n",
      "On the Waterfront, It's a Wonderful Life, Some Like It Hot, The French Connection, Fargo, Pulp Fiction, North by Northwest\n",
      "----------------------------------------\n",
      "Cluster 14 details:\n",
      "--------------------\n",
      "Key features: [u'early', u'able', u'end', u'charge', u'allow']\n",
      "Movies in this cluster:\n",
      "A Streetcar Named Desire, The King's Speech, Giant, The Grapes of Wrath\n",
      "----------------------------------------\n",
      "Cluster 15 details:\n",
      "--------------------\n",
      "Key features: [u'enter', u'eventually', u'cut', u'accept', u'call']\n",
      "Movies in this cluster:\n",
      "The Philadelphia Story, The Green Mile, American Graffiti\n",
      "----------------------------------------\n",
      "Cluster 16 details:\n",
      "--------------------\n",
      "Key features: [u'father', u'allow', u'drive', u'apartment', u'car']\n",
      "Movies in this cluster:\n",
      "Citizen Kane, Sunset Blvd., Forrest Gump, The Sound of Music, Out of Africa, Terms of Endearment, Wuthering Heights, Yankee Doodle Dandy\n",
      "----------------------------------------\n"
     ]
    }
   ],
   "source": [
    "#get clustering analysis data\n",
    "cluster_data = get_cluster_data(clustering_obj=ap_obj, movie_data=movie_data,\n",
    "                             feature_names=feature_names,num_clusters=total_clusters,\n",
    "                             topn_features=5)\n",
    "#print clustering analysis results\n",
    "print_cluster_data(cluster_data)"
   ]
  },
  {
   "cell_type": "markdown",
   "metadata": {},
   "source": [
    "**注意:**\n",
    "\n",
    "每个聚类的样本或质心中的几个关键字可能并不总是能够描述该聚类的本质或主题,有个好的解决方法是在每个聚类熵构建主题模型,\n",
    "\n",
    "并查看你能从每个聚类中提取的主题,从而更好地表示每个聚类(可以看出,这时如何将各种文本分析技术结合在一起的另一个例子)"
   ]
  },
  {
   "cell_type": "markdown",
   "metadata": {},
   "source": [
    "### 沃德凝聚层次聚类\n",
    "层次聚类尝试通过合并或拆分聚类来构建嵌套层次结构.层次聚类有两个主要的策略.\n",
    "\n",
    "- 凝聚:这些算法遵循自下而上的方法,最初所有数据点都属于子集的单个聚类,然后从这个底层开始,我们将聚类合并在一起,\n",
    "  准备向上构建聚类的层次结构.\n",
    "  \n",
    "- 分裂:这些算法准许你自上而下的方法,最初所有的数据点都属于同一个巨大的聚类,然后我们逐渐向下开始递归分割,\n",
    "  从而产生自上而下的聚类层次结构.\n",
    "  \n",
    "层次聚类使用一个贪心算法进行合并和拆分,聚类层次结构的最终结果可以可视化为树状结构,称为树形图.\n",
    "\n",
    "在凝聚聚类中,为了决定在单个数据点集合开始时,应合并哪些聚类,我们需要两个度量标准.\n",
    "- 距离度量: 测量数据点之间的相似度或不相似度.在这里,我们将使用余弦距离/相似度\n",
    "- 合并标准: 确定用于聚类合并测量的度量.在这里,我们将使用沃德的方法.\n",
    "\n",
    "其核心思想是使用诸如两点之间的L2范数距离这样的目标函数,来最小化每个聚类内的方差."
   ]
  },
  {
   "cell_type": "code",
   "execution_count": 51,
   "metadata": {
    "collapsed": true
   },
   "outputs": [],
   "source": [
    "from scipy.cluster.hierarchy import ward, dendrogram\n",
    "\n",
    "def ward_hierarchical_clustering(feature_matrix):\n",
    "    cosine_distance = 1 - cosine_similarity(feature_matrix)\n",
    "    linkage_matrix = ward(cosine_distance)\n",
    "    return linkage_matrix"
   ]
  },
  {
   "cell_type": "code",
   "execution_count": 53,
   "metadata": {},
   "outputs": [],
   "source": [
    "def plot_hierarchical_clusters(linkage_matrix, movie_data, figure_size=(8,12)):\n",
    "    #set size\n",
    "    fig, ax = plt.subplots(figsize=figure_size)\n",
    "    movie_titles = movie_data['Title'].values.tolist()\n",
    "    #plot dendrogram\n",
    "    ax = dendrogram(linkage_matrix, orientation='left', labels=movie_titles)\n",
    "    plt.tick_params(axis='x',which='boch',bottom='off',top='off',labelbottom='off')\n",
    "    plt.tight_layout()\n",
    "    plt.savefig('ward_hierachical_clusters.png', dpi=200)"
   ]
  },
  {
   "cell_type": "code",
   "execution_count": 54,
   "metadata": {},
   "outputs": [
    {
     "data": {
      "image/png": "[encoded data removed]",
      "text/plain": [
       "<matplotlib.figure.Figure at 0x7f89eed94350>"
      ]
     },
     "metadata": {},
     "output_type": "display_data"
    }
   ],
   "source": [
    "#build ward's linkage matrix\n",
    "linkage_matrix = ward_hierarchical_clustering(feature_matrix)\n",
    "#plot the dendrogram\n",
    "plot_hierarchical_clusters(linkage_matrix=linkage_matrix,movie_data=movie_data,figure_size=(8,10))"
   ]
  },
  {
   "cell_type": "code",
   "execution_count": null,
   "metadata": {
    "collapsed": true
   },
   "outputs": [],
   "source": []
  }
 ],
 "metadata": {
  "kernelspec": {
   "display_name": "Python 2",
   "language": "python",
   "name": "python2"
  },
  "language_info": {
   "codemirror_mode": {
    "name": "ipython",
    "version": 2
   },
   "file_extension": ".py",
   "mimetype": "text/x-python",
   "name": "python",
   "nbconvert_exporter": "python",
   "pygments_lexer": "ipython2",
   "version": "2.7.13"
  }
 },
 "nbformat": 4,
 "nbformat_minor": 2
}
