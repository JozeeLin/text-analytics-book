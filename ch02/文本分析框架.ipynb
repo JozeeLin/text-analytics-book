{
 "cells": [
  {
   "cell_type": "markdown",
   "metadata": {},
   "source": [
    "- NLTK: 该自然语言工具包是一个包含50多个语料库和词汇资源的完整平台.它还提供必要的工具,接口和方法来处理和分析文本数据\n",
    "- pattern:pattern项目为web挖掘,信息检索,NLP,机器学习和网络分析提供了工具和接口.pattern.en模块包含了文本分析的大多数使用工具\n",
    "- gensim:gensim库具有一套丰富的语义分析功能,包括主题建模和相似性分析.而其最重要的是包含一个谷歌非常流行的word2vec模型(最初可用作C语言包)的python接口,这个神经网络模型实现了**学习词语的分布式表示**,其中相似词(语义)彼此相邻出现.\n",
    "- textblob:它是另一个提供多种功能的库,包括文本处理,短语提取,分类,POS标注,文本翻译和情感分析.\n",
    "- spacy:这是一个较新的库,它声称通过每种技术和算法的最佳实现来提供工业级NLP功能,使得NLP任务在性能和实现方面高效."
   ]
  },
  {
   "cell_type": "code",
   "execution_count": null,
   "metadata": {
    "collapsed": true
   },
   "outputs": [],
   "source": []
  }
 ],
 "metadata": {
  "kernelspec": {
   "display_name": "Python 2",
   "language": "python",
   "name": "python2"
  },
  "language_info": {
   "codemirror_mode": {
    "name": "ipython",
    "version": 2
   },
   "file_extension": ".py",
   "mimetype": "text/x-python",
   "name": "python",
   "nbconvert_exporter": "python",
   "pygments_lexer": "ipython2",
   "version": "2.7.13"
  }
 },
 "nbformat": 4,
 "nbformat_minor": 2
}
